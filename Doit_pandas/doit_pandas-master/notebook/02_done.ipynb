{
 "cells": [
  {
   "cell_type": "markdown",
   "metadata": {},
   "source": [
    "# 직접 해보세요! \n",
    "## 갭마인더 데이터 집합 불러오기(28쪽)"
   ]
  },
  {
   "cell_type": "code",
   "execution_count": 2,
   "metadata": {},
   "outputs": [],
   "source": [
    "import pandas"
   ]
  },
  {
   "cell_type": "code",
   "execution_count": 3,
   "metadata": {},
   "outputs": [],
   "source": [
    "df = pandas.read_csv('../data/gapminder.tsv', sep='\\t')"
   ]
  },
  {
   "cell_type": "code",
   "execution_count": 4,
   "metadata": {},
   "outputs": [],
   "source": [
    "import pandas as pd\n",
    "df = pd.read_csv('../data/gapminder.tsv', sep='\\t')"
   ]
  },
  {
   "cell_type": "markdown",
   "metadata": {},
   "source": [
    "# 직접 해보세요!\n",
    "## 불러온 데이터 집합 살펴보기(29쪽)"
   ]
  },
  {
   "cell_type": "code",
   "execution_count": 5,
   "metadata": {},
   "outputs": [
    {
     "name": "stdout",
     "output_type": "stream",
     "text": [
      "       country continent  year  lifeExp       pop   gdpPercap\n",
      "0  Afghanistan      Asia  1952   28.801   8425333  779.445314\n",
      "1  Afghanistan      Asia  1957   30.332   9240934  820.853030\n",
      "2  Afghanistan      Asia  1962   31.997  10267083  853.100710\n",
      "3  Afghanistan      Asia  1967   34.020  11537966  836.197138\n",
      "4  Afghanistan      Asia  1972   36.088  13079460  739.981106\n"
     ]
    }
   ],
   "source": [
    "print(df.head())"
   ]
  },
  {
   "cell_type": "code",
   "execution_count": 6,
   "metadata": {},
   "outputs": [
    {
     "name": "stdout",
     "output_type": "stream",
     "text": [
      "<class 'pandas.core.frame.DataFrame'>\n"
     ]
    }
   ],
   "source": [
    "print(type(df))"
   ]
  },
  {
   "cell_type": "code",
   "execution_count": 7,
   "metadata": {},
   "outputs": [
    {
     "name": "stdout",
     "output_type": "stream",
     "text": [
      "(1704, 6)\n"
     ]
    }
   ],
   "source": [
    "print(df.shape)\n",
    "# print(df.shape[0])\n",
    "# print(df.shape[1])"
   ]
  },
  {
   "cell_type": "code",
   "execution_count": 7,
   "metadata": {},
   "outputs": [
    {
     "name": "stdout",
     "output_type": "stream",
     "text": [
      "Index(['country', 'continent', 'year', 'lifeExp', 'pop', 'gdpPercap'], dtype='object')\n"
     ]
    }
   ],
   "source": [
    "print(df.columns)"
   ]
  },
  {
   "cell_type": "code",
   "execution_count": 8,
   "metadata": {},
   "outputs": [
    {
     "name": "stdout",
     "output_type": "stream",
     "text": [
      "country       object\n",
      "continent     object\n",
      "year           int64\n",
      "lifeExp      float64\n",
      "pop            int64\n",
      "gdpPercap    float64\n",
      "dtype: object\n"
     ]
    }
   ],
   "source": [
    "print(df.dtypes)"
   ]
  },
  {
   "cell_type": "code",
   "execution_count": 9,
   "metadata": {},
   "outputs": [
    {
     "name": "stdout",
     "output_type": "stream",
     "text": [
      "<class 'pandas.core.frame.DataFrame'>\n",
      "RangeIndex: 1704 entries, 0 to 1703\n",
      "Data columns (total 6 columns):\n",
      "country      1704 non-null object\n",
      "continent    1704 non-null object\n",
      "year         1704 non-null int64\n",
      "lifeExp      1704 non-null float64\n",
      "pop          1704 non-null int64\n",
      "gdpPercap    1704 non-null float64\n",
      "dtypes: float64(2), int64(2), object(2)\n",
      "memory usage: 80.0+ KB\n",
      "None\n"
     ]
    }
   ],
   "source": [
    "print(df.info())"
   ]
  },
  {
   "cell_type": "markdown",
   "metadata": {},
   "source": [
    "# 직접 해보세요!\n",
    "## 열 단위로 데이터 추출하기(32쪽)"
   ]
  },
  {
   "cell_type": "code",
   "execution_count": 9,
   "metadata": {},
   "outputs": [
    {
     "name": "stdout",
     "output_type": "stream",
     "text": [
      "<class 'pandas.core.series.Series'>\n"
     ]
    }
   ],
   "source": [
    "country_df = df['country']\n",
    "\n",
    "print(type(country_df))"
   ]
  },
  {
   "cell_type": "code",
   "execution_count": 10,
   "metadata": {},
   "outputs": [
    {
     "name": "stdout",
     "output_type": "stream",
     "text": [
      "0    Afghanistan\n",
      "1    Afghanistan\n",
      "2    Afghanistan\n",
      "3    Afghanistan\n",
      "4    Afghanistan\n",
      "Name: country, dtype: object\n"
     ]
    }
   ],
   "source": [
    "print(country_df.head())"
   ]
  },
  {
   "cell_type": "code",
   "execution_count": 12,
   "metadata": {},
   "outputs": [
    {
     "name": "stdout",
     "output_type": "stream",
     "text": [
      "1699    Zimbabwe\n",
      "1700    Zimbabwe\n",
      "1701    Zimbabwe\n",
      "1702    Zimbabwe\n",
      "1703    Zimbabwe\n",
      "Name: country, dtype: object\n"
     ]
    }
   ],
   "source": [
    "print(country_df.tail())"
   ]
  },
  {
   "cell_type": "code",
   "execution_count": 13,
   "metadata": {},
   "outputs": [
    {
     "name": "stdout",
     "output_type": "stream",
     "text": [
      "<class 'pandas.core.frame.DataFrame'>\n"
     ]
    }
   ],
   "source": [
    "subset = df[['country', 'continent', 'year']]\n",
    "\n",
    "print(type(subset))"
   ]
  },
  {
   "cell_type": "code",
   "execution_count": 14,
   "metadata": {},
   "outputs": [
    {
     "name": "stdout",
     "output_type": "stream",
     "text": [
      "       country continent  year\n",
      "0  Afghanistan      Asia  1952\n",
      "1  Afghanistan      Asia  1957\n",
      "2  Afghanistan      Asia  1962\n",
      "3  Afghanistan      Asia  1967\n",
      "4  Afghanistan      Asia  1972\n"
     ]
    }
   ],
   "source": [
    "print(subset.head())"
   ]
  },
  {
   "cell_type": "code",
   "execution_count": 15,
   "metadata": {},
   "outputs": [
    {
     "name": "stdout",
     "output_type": "stream",
     "text": [
      "       country continent  year\n",
      "1699  Zimbabwe    Africa  1987\n",
      "1700  Zimbabwe    Africa  1992\n",
      "1701  Zimbabwe    Africa  1997\n",
      "1702  Zimbabwe    Africa  2002\n",
      "1703  Zimbabwe    Africa  2007\n"
     ]
    }
   ],
   "source": [
    "print(subset.tail())"
   ]
  },
  {
   "cell_type": "markdown",
   "metadata": {},
   "source": [
    "# 직접 해보세요!\n",
    "## loc 속성으로 행 단위 데이터 추출하기(35쪽)"
   ]
  },
  {
   "cell_type": "code",
   "execution_count": 16,
   "metadata": {},
   "outputs": [
    {
     "name": "stdout",
     "output_type": "stream",
     "text": [
      "country      Afghanistan\n",
      "continent           Asia\n",
      "year                1952\n",
      "lifeExp           28.801\n",
      "pop              8425333\n",
      "gdpPercap        779.445\n",
      "Name: 0, dtype: object\n"
     ]
    }
   ],
   "source": [
    "print(df.loc[0])"
   ]
  },
  {
   "cell_type": "code",
   "execution_count": 17,
   "metadata": {},
   "outputs": [
    {
     "name": "stdout",
     "output_type": "stream",
     "text": [
      "country      Bangladesh\n",
      "continent          Asia\n",
      "year               1967\n",
      "lifeExp          43.453\n",
      "pop            62821884\n",
      "gdpPercap       721.186\n",
      "Name: 99, dtype: object\n"
     ]
    }
   ],
   "source": [
    "print(df.loc[99])"
   ]
  },
  {
   "cell_type": "code",
   "execution_count": 18,
   "metadata": {},
   "outputs": [
    {
     "ename": "KeyError",
     "evalue": "'the label [-1] is not in the [index]'",
     "output_type": "error",
     "traceback": [
      "\u001b[1;31m---------------------------------------------------------------------------\u001b[0m",
      "\u001b[1;31mKeyError\u001b[0m                                  Traceback (most recent call last)",
      "\u001b[1;32m~\\Anaconda3\\lib\\site-packages\\pandas\\core\\indexing.py\u001b[0m in \u001b[0;36m_validate_key\u001b[1;34m(self, key, axis)\u001b[0m\n\u001b[0;32m   1789\u001b[0m                 \u001b[1;32mif\u001b[0m \u001b[1;32mnot\u001b[0m \u001b[0max\u001b[0m\u001b[1;33m.\u001b[0m\u001b[0mcontains\u001b[0m\u001b[1;33m(\u001b[0m\u001b[0mkey\u001b[0m\u001b[1;33m)\u001b[0m\u001b[1;33m:\u001b[0m\u001b[1;33m\u001b[0m\u001b[0m\n\u001b[1;32m-> 1790\u001b[1;33m                     \u001b[0merror\u001b[0m\u001b[1;33m(\u001b[0m\u001b[1;33m)\u001b[0m\u001b[1;33m\u001b[0m\u001b[0m\n\u001b[0m\u001b[0;32m   1791\u001b[0m             \u001b[1;32mexcept\u001b[0m \u001b[0mTypeError\u001b[0m \u001b[1;32mas\u001b[0m \u001b[0me\u001b[0m\u001b[1;33m:\u001b[0m\u001b[1;33m\u001b[0m\u001b[0m\n",
      "\u001b[1;32m~\\Anaconda3\\lib\\site-packages\\pandas\\core\\indexing.py\u001b[0m in \u001b[0;36merror\u001b[1;34m()\u001b[0m\n\u001b[0;32m   1784\u001b[0m                                .format(key=key,\n\u001b[1;32m-> 1785\u001b[1;33m                                        axis=self.obj._get_axis_name(axis)))\n\u001b[0m\u001b[0;32m   1786\u001b[0m \u001b[1;33m\u001b[0m\u001b[0m\n",
      "\u001b[1;31mKeyError\u001b[0m: 'the label [-1] is not in the [index]'",
      "\nDuring handling of the above exception, another exception occurred:\n",
      "\u001b[1;31mKeyError\u001b[0m                                  Traceback (most recent call last)",
      "\u001b[1;32m<ipython-input-18-5c20936c1280>\u001b[0m in \u001b[0;36m<module>\u001b[1;34m()\u001b[0m\n\u001b[1;32m----> 1\u001b[1;33m \u001b[0mprint\u001b[0m\u001b[1;33m(\u001b[0m\u001b[0mdf\u001b[0m\u001b[1;33m.\u001b[0m\u001b[0mloc\u001b[0m\u001b[1;33m[\u001b[0m\u001b[1;33m-\u001b[0m\u001b[1;36m1\u001b[0m\u001b[1;33m]\u001b[0m\u001b[1;33m)\u001b[0m\u001b[1;33m\u001b[0m\u001b[0m\n\u001b[0m",
      "\u001b[1;32m~\\Anaconda3\\lib\\site-packages\\pandas\\core\\indexing.py\u001b[0m in \u001b[0;36m__getitem__\u001b[1;34m(self, key)\u001b[0m\n\u001b[0;32m   1476\u001b[0m \u001b[1;33m\u001b[0m\u001b[0m\n\u001b[0;32m   1477\u001b[0m             \u001b[0mmaybe_callable\u001b[0m \u001b[1;33m=\u001b[0m \u001b[0mcom\u001b[0m\u001b[1;33m.\u001b[0m\u001b[0m_apply_if_callable\u001b[0m\u001b[1;33m(\u001b[0m\u001b[0mkey\u001b[0m\u001b[1;33m,\u001b[0m \u001b[0mself\u001b[0m\u001b[1;33m.\u001b[0m\u001b[0mobj\u001b[0m\u001b[1;33m)\u001b[0m\u001b[1;33m\u001b[0m\u001b[0m\n\u001b[1;32m-> 1478\u001b[1;33m             \u001b[1;32mreturn\u001b[0m \u001b[0mself\u001b[0m\u001b[1;33m.\u001b[0m\u001b[0m_getitem_axis\u001b[0m\u001b[1;33m(\u001b[0m\u001b[0mmaybe_callable\u001b[0m\u001b[1;33m,\u001b[0m \u001b[0maxis\u001b[0m\u001b[1;33m=\u001b[0m\u001b[0maxis\u001b[0m\u001b[1;33m)\u001b[0m\u001b[1;33m\u001b[0m\u001b[0m\n\u001b[0m\u001b[0;32m   1479\u001b[0m \u001b[1;33m\u001b[0m\u001b[0m\n\u001b[0;32m   1480\u001b[0m     \u001b[1;32mdef\u001b[0m \u001b[0m_is_scalar_access\u001b[0m\u001b[1;33m(\u001b[0m\u001b[0mself\u001b[0m\u001b[1;33m,\u001b[0m \u001b[0mkey\u001b[0m\u001b[1;33m)\u001b[0m\u001b[1;33m:\u001b[0m\u001b[1;33m\u001b[0m\u001b[0m\n",
      "\u001b[1;32m~\\Anaconda3\\lib\\site-packages\\pandas\\core\\indexing.py\u001b[0m in \u001b[0;36m_getitem_axis\u001b[1;34m(self, key, axis)\u001b[0m\n\u001b[0;32m   1909\u001b[0m \u001b[1;33m\u001b[0m\u001b[0m\n\u001b[0;32m   1910\u001b[0m         \u001b[1;31m# fall thru to straight lookup\u001b[0m\u001b[1;33m\u001b[0m\u001b[1;33m\u001b[0m\u001b[0m\n\u001b[1;32m-> 1911\u001b[1;33m         \u001b[0mself\u001b[0m\u001b[1;33m.\u001b[0m\u001b[0m_validate_key\u001b[0m\u001b[1;33m(\u001b[0m\u001b[0mkey\u001b[0m\u001b[1;33m,\u001b[0m \u001b[0maxis\u001b[0m\u001b[1;33m)\u001b[0m\u001b[1;33m\u001b[0m\u001b[0m\n\u001b[0m\u001b[0;32m   1912\u001b[0m         \u001b[1;32mreturn\u001b[0m \u001b[0mself\u001b[0m\u001b[1;33m.\u001b[0m\u001b[0m_get_label\u001b[0m\u001b[1;33m(\u001b[0m\u001b[0mkey\u001b[0m\u001b[1;33m,\u001b[0m \u001b[0maxis\u001b[0m\u001b[1;33m=\u001b[0m\u001b[0maxis\u001b[0m\u001b[1;33m)\u001b[0m\u001b[1;33m\u001b[0m\u001b[0m\n\u001b[0;32m   1913\u001b[0m \u001b[1;33m\u001b[0m\u001b[0m\n",
      "\u001b[1;32m~\\Anaconda3\\lib\\site-packages\\pandas\\core\\indexing.py\u001b[0m in \u001b[0;36m_validate_key\u001b[1;34m(self, key, axis)\u001b[0m\n\u001b[0;32m   1796\u001b[0m                 \u001b[1;32mraise\u001b[0m\u001b[1;33m\u001b[0m\u001b[0m\n\u001b[0;32m   1797\u001b[0m             \u001b[1;32mexcept\u001b[0m\u001b[1;33m:\u001b[0m\u001b[1;33m\u001b[0m\u001b[0m\n\u001b[1;32m-> 1798\u001b[1;33m                 \u001b[0merror\u001b[0m\u001b[1;33m(\u001b[0m\u001b[1;33m)\u001b[0m\u001b[1;33m\u001b[0m\u001b[0m\n\u001b[0m\u001b[0;32m   1799\u001b[0m \u001b[1;33m\u001b[0m\u001b[0m\n\u001b[0;32m   1800\u001b[0m     \u001b[1;32mdef\u001b[0m \u001b[0m_is_scalar_access\u001b[0m\u001b[1;33m(\u001b[0m\u001b[0mself\u001b[0m\u001b[1;33m,\u001b[0m \u001b[0mkey\u001b[0m\u001b[1;33m)\u001b[0m\u001b[1;33m:\u001b[0m\u001b[1;33m\u001b[0m\u001b[0m\n",
      "\u001b[1;32m~\\Anaconda3\\lib\\site-packages\\pandas\\core\\indexing.py\u001b[0m in \u001b[0;36merror\u001b[1;34m()\u001b[0m\n\u001b[0;32m   1783\u001b[0m                 raise KeyError(u\"the label [{key}] is not in the [{axis}]\"\n\u001b[0;32m   1784\u001b[0m                                .format(key=key,\n\u001b[1;32m-> 1785\u001b[1;33m                                        axis=self.obj._get_axis_name(axis)))\n\u001b[0m\u001b[0;32m   1786\u001b[0m \u001b[1;33m\u001b[0m\u001b[0m\n\u001b[0;32m   1787\u001b[0m             \u001b[1;32mtry\u001b[0m\u001b[1;33m:\u001b[0m\u001b[1;33m\u001b[0m\u001b[0m\n",
      "\u001b[1;31mKeyError\u001b[0m: 'the label [-1] is not in the [index]'"
     ]
    }
   ],
   "source": [
    "print(df.loc[-1])"
   ]
  },
  {
   "cell_type": "code",
   "execution_count": 19,
   "metadata": {},
   "outputs": [
    {
     "name": "stdout",
     "output_type": "stream",
     "text": [
      "country      Zimbabwe\n",
      "continent      Africa\n",
      "year             2007\n",
      "lifeExp        43.487\n",
      "pop          12311143\n",
      "gdpPercap     469.709\n",
      "Name: 1703, dtype: object\n"
     ]
    }
   ],
   "source": [
    "number_of_rows = df.shape[0]\n",
    "last_row_index = number_of_rows - 1\n",
    "\n",
    "print(df.loc[last_row_index])"
   ]
  },
  {
   "cell_type": "code",
   "execution_count": 20,
   "metadata": {},
   "outputs": [
    {
     "name": "stdout",
     "output_type": "stream",
     "text": [
      "       country continent  year  lifeExp       pop   gdpPercap\n",
      "1703  Zimbabwe    Africa  2007   43.487  12311143  469.709298\n"
     ]
    }
   ],
   "source": [
    "print(df.tail(n=1))"
   ]
  },
  {
   "cell_type": "code",
   "execution_count": 21,
   "metadata": {},
   "outputs": [
    {
     "name": "stdout",
     "output_type": "stream",
     "text": [
      "       country continent  year  lifeExp       pop   gdpPercap\n",
      "1702  Zimbabwe    Africa  2002   39.989  11926563  672.038623\n",
      "1703  Zimbabwe    Africa  2007   43.487  12311143  469.709298\n"
     ]
    }
   ],
   "source": [
    "print(df.tail(n=2))"
   ]
  },
  {
   "cell_type": "code",
   "execution_count": 22,
   "metadata": {},
   "outputs": [
    {
     "name": "stdout",
     "output_type": "stream",
     "text": [
      "         country continent  year  lifeExp       pop    gdpPercap\n",
      "0    Afghanistan      Asia  1952   28.801   8425333   779.445314\n",
      "99    Bangladesh      Asia  1967   43.453  62821884   721.186086\n",
      "999     Mongolia      Asia  1967   51.253   1149500  1226.041130\n"
     ]
    }
   ],
   "source": [
    "print(df.loc[[0, 99, 999]])"
   ]
  },
  {
   "cell_type": "markdown",
   "metadata": {},
   "source": [
    "# 알아두면 좋아요!\n",
    "## tail 메서드와 loc 속성이 반환하는 자료형은 서로 달라요!(37쪽)"
   ]
  },
  {
   "cell_type": "code",
   "execution_count": 6,
   "metadata": {},
   "outputs": [
    {
     "name": "stdout",
     "output_type": "stream",
     "text": [
      "<class 'pandas.core.series.Series'>\n",
      "<class 'pandas.core.frame.DataFrame'>\n"
     ]
    }
   ],
   "source": [
    "subset_loc = df.loc[0] \n",
    "subset_tail = df.tail(n=1)\n",
    "\n",
    "print(type(subset_loc))\n",
    "print(type(subset_tail))"
   ]
  },
  {
   "cell_type": "markdown",
   "metadata": {},
   "source": [
    "# 직접 해보세요!\n",
    "## iloc 속성으로 행 데이터 추출하기(37쪽)"
   ]
  },
  {
   "cell_type": "code",
   "execution_count": 7,
   "metadata": {},
   "outputs": [
    {
     "name": "stdout",
     "output_type": "stream",
     "text": [
      "country      Afghanistan\n",
      "continent           Asia\n",
      "year                1957\n",
      "lifeExp           30.332\n",
      "pop              9240934\n",
      "gdpPercap        820.853\n",
      "Name: 1, dtype: object\n"
     ]
    }
   ],
   "source": [
    "print(df.iloc[1])"
   ]
  },
  {
   "cell_type": "code",
   "execution_count": 26,
   "metadata": {},
   "outputs": [
    {
     "name": "stdout",
     "output_type": "stream",
     "text": [
      "country      Bangladesh\n",
      "continent          Asia\n",
      "year               1967\n",
      "lifeExp          43.453\n",
      "pop            62821884\n",
      "gdpPercap       721.186\n",
      "Name: 99, dtype: object\n"
     ]
    }
   ],
   "source": [
    "print(df.iloc[99])"
   ]
  },
  {
   "cell_type": "code",
   "execution_count": 27,
   "metadata": {},
   "outputs": [
    {
     "name": "stdout",
     "output_type": "stream",
     "text": [
      "country      Zimbabwe\n",
      "continent      Africa\n",
      "year             2007\n",
      "lifeExp        43.487\n",
      "pop          12311143\n",
      "gdpPercap     469.709\n",
      "Name: 1703, dtype: object\n"
     ]
    }
   ],
   "source": [
    "print(df.iloc[-1])"
   ]
  },
  {
   "cell_type": "code",
   "execution_count": 28,
   "metadata": {},
   "outputs": [
    {
     "ename": "IndexError",
     "evalue": "single positional indexer is out-of-bounds",
     "output_type": "error",
     "traceback": [
      "\u001b[1;31m---------------------------------------------------------------------------\u001b[0m",
      "\u001b[1;31mIndexError\u001b[0m                                Traceback (most recent call last)",
      "\u001b[1;32m<ipython-input-28-e91d411323c7>\u001b[0m in \u001b[0;36m<module>\u001b[1;34m()\u001b[0m\n\u001b[1;32m----> 1\u001b[1;33m \u001b[0mprint\u001b[0m\u001b[1;33m(\u001b[0m\u001b[0mdf\u001b[0m\u001b[1;33m.\u001b[0m\u001b[0miloc\u001b[0m\u001b[1;33m[\u001b[0m\u001b[1;36m1710\u001b[0m\u001b[1;33m]\u001b[0m\u001b[1;33m)\u001b[0m\u001b[1;33m\u001b[0m\u001b[0m\n\u001b[0m",
      "\u001b[1;32m~\\Anaconda3\\lib\\site-packages\\pandas\\core\\indexing.py\u001b[0m in \u001b[0;36m__getitem__\u001b[1;34m(self, key)\u001b[0m\n\u001b[0;32m   1476\u001b[0m \u001b[1;33m\u001b[0m\u001b[0m\n\u001b[0;32m   1477\u001b[0m             \u001b[0mmaybe_callable\u001b[0m \u001b[1;33m=\u001b[0m \u001b[0mcom\u001b[0m\u001b[1;33m.\u001b[0m\u001b[0m_apply_if_callable\u001b[0m\u001b[1;33m(\u001b[0m\u001b[0mkey\u001b[0m\u001b[1;33m,\u001b[0m \u001b[0mself\u001b[0m\u001b[1;33m.\u001b[0m\u001b[0mobj\u001b[0m\u001b[1;33m)\u001b[0m\u001b[1;33m\u001b[0m\u001b[0m\n\u001b[1;32m-> 1478\u001b[1;33m             \u001b[1;32mreturn\u001b[0m \u001b[0mself\u001b[0m\u001b[1;33m.\u001b[0m\u001b[0m_getitem_axis\u001b[0m\u001b[1;33m(\u001b[0m\u001b[0mmaybe_callable\u001b[0m\u001b[1;33m,\u001b[0m \u001b[0maxis\u001b[0m\u001b[1;33m=\u001b[0m\u001b[0maxis\u001b[0m\u001b[1;33m)\u001b[0m\u001b[1;33m\u001b[0m\u001b[0m\n\u001b[0m\u001b[0;32m   1479\u001b[0m \u001b[1;33m\u001b[0m\u001b[0m\n\u001b[0;32m   1480\u001b[0m     \u001b[1;32mdef\u001b[0m \u001b[0m_is_scalar_access\u001b[0m\u001b[1;33m(\u001b[0m\u001b[0mself\u001b[0m\u001b[1;33m,\u001b[0m \u001b[0mkey\u001b[0m\u001b[1;33m)\u001b[0m\u001b[1;33m:\u001b[0m\u001b[1;33m\u001b[0m\u001b[0m\n",
      "\u001b[1;32m~\\Anaconda3\\lib\\site-packages\\pandas\\core\\indexing.py\u001b[0m in \u001b[0;36m_getitem_axis\u001b[1;34m(self, key, axis)\u001b[0m\n\u001b[0;32m   2100\u001b[0m \u001b[1;33m\u001b[0m\u001b[0m\n\u001b[0;32m   2101\u001b[0m             \u001b[1;31m# validate the location\u001b[0m\u001b[1;33m\u001b[0m\u001b[1;33m\u001b[0m\u001b[0m\n\u001b[1;32m-> 2102\u001b[1;33m             \u001b[0mself\u001b[0m\u001b[1;33m.\u001b[0m\u001b[0m_validate_integer\u001b[0m\u001b[1;33m(\u001b[0m\u001b[0mkey\u001b[0m\u001b[1;33m,\u001b[0m \u001b[0maxis\u001b[0m\u001b[1;33m)\u001b[0m\u001b[1;33m\u001b[0m\u001b[0m\n\u001b[0m\u001b[0;32m   2103\u001b[0m \u001b[1;33m\u001b[0m\u001b[0m\n\u001b[0;32m   2104\u001b[0m             \u001b[1;32mreturn\u001b[0m \u001b[0mself\u001b[0m\u001b[1;33m.\u001b[0m\u001b[0m_get_loc\u001b[0m\u001b[1;33m(\u001b[0m\u001b[0mkey\u001b[0m\u001b[1;33m,\u001b[0m \u001b[0maxis\u001b[0m\u001b[1;33m=\u001b[0m\u001b[0maxis\u001b[0m\u001b[1;33m)\u001b[0m\u001b[1;33m\u001b[0m\u001b[0m\n",
      "\u001b[1;32m~\\Anaconda3\\lib\\site-packages\\pandas\\core\\indexing.py\u001b[0m in \u001b[0;36m_validate_integer\u001b[1;34m(self, key, axis)\u001b[0m\n\u001b[0;32m   2007\u001b[0m         \u001b[0ml\u001b[0m \u001b[1;33m=\u001b[0m \u001b[0mlen\u001b[0m\u001b[1;33m(\u001b[0m\u001b[0max\u001b[0m\u001b[1;33m)\u001b[0m\u001b[1;33m\u001b[0m\u001b[0m\n\u001b[0;32m   2008\u001b[0m         \u001b[1;32mif\u001b[0m \u001b[0mkey\u001b[0m \u001b[1;33m>=\u001b[0m \u001b[0ml\u001b[0m \u001b[1;32mor\u001b[0m \u001b[0mkey\u001b[0m \u001b[1;33m<\u001b[0m \u001b[1;33m-\u001b[0m\u001b[0ml\u001b[0m\u001b[1;33m:\u001b[0m\u001b[1;33m\u001b[0m\u001b[0m\n\u001b[1;32m-> 2009\u001b[1;33m             \u001b[1;32mraise\u001b[0m \u001b[0mIndexError\u001b[0m\u001b[1;33m(\u001b[0m\u001b[1;34m\"single positional indexer is out-of-bounds\"\u001b[0m\u001b[1;33m)\u001b[0m\u001b[1;33m\u001b[0m\u001b[0m\n\u001b[0m\u001b[0;32m   2010\u001b[0m \u001b[1;33m\u001b[0m\u001b[0m\n\u001b[0;32m   2011\u001b[0m     \u001b[1;32mdef\u001b[0m \u001b[0m_getitem_tuple\u001b[0m\u001b[1;33m(\u001b[0m\u001b[0mself\u001b[0m\u001b[1;33m,\u001b[0m \u001b[0mtup\u001b[0m\u001b[1;33m)\u001b[0m\u001b[1;33m:\u001b[0m\u001b[1;33m\u001b[0m\u001b[0m\n",
      "\u001b[1;31mIndexError\u001b[0m: single positional indexer is out-of-bounds"
     ]
    }
   ],
   "source": [
    "print(df.iloc[1710])"
   ]
  },
  {
   "cell_type": "code",
   "execution_count": 29,
   "metadata": {},
   "outputs": [
    {
     "name": "stdout",
     "output_type": "stream",
     "text": [
      "         country continent  year  lifeExp       pop    gdpPercap\n",
      "0    Afghanistan      Asia  1952   28.801   8425333   779.445314\n",
      "99    Bangladesh      Asia  1967   43.453  62821884   721.186086\n",
      "999     Mongolia      Asia  1967   51.253   1149500  1226.041130\n"
     ]
    }
   ],
   "source": [
    "print(df.iloc[[0, 99, 999]])"
   ]
  },
  {
   "cell_type": "markdown",
   "metadata": {},
   "source": [
    "# 직접 해보세요!\n",
    "## 데이터 추출하기 ─ 슬라이싱 구문, range 메서드(39쪽)\n",
    "### 1. 슬라이싱 구문으로 데이터 추출하기"
   ]
  },
  {
   "cell_type": "code",
   "execution_count": 8,
   "metadata": {},
   "outputs": [
    {
     "name": "stdout",
     "output_type": "stream",
     "text": [
      "   year       pop\n",
      "0  1952   8425333\n",
      "1  1957   9240934\n",
      "2  1962  10267083\n",
      "3  1967  11537966\n",
      "4  1972  13079460\n"
     ]
    }
   ],
   "source": [
    "subset = df.loc[:, ['year', 'pop']] \n",
    "print(subset.head())"
   ]
  },
  {
   "cell_type": "code",
   "execution_count": 31,
   "metadata": {},
   "outputs": [
    {
     "name": "stdout",
     "output_type": "stream",
     "text": [
      "   year       pop   gdpPercap\n",
      "0  1952   8425333  779.445314\n",
      "1  1957   9240934  820.853030\n",
      "2  1962  10267083  853.100710\n",
      "3  1967  11537966  836.197138\n",
      "4  1972  13079460  739.981106\n"
     ]
    }
   ],
   "source": [
    "subset = df.iloc[:, [2, 4, -1]] \n",
    "print(subset.head())"
   ]
  },
  {
   "cell_type": "markdown",
   "metadata": {},
   "source": [
    "### 2. range 메서드로 원하는 데이터 추출하기"
   ]
  },
  {
   "cell_type": "code",
   "execution_count": 32,
   "metadata": {},
   "outputs": [
    {
     "name": "stdout",
     "output_type": "stream",
     "text": [
      "[0, 1, 2, 3, 4]\n"
     ]
    }
   ],
   "source": [
    "small_range = list(range(5)) \n",
    "print(small_range)"
   ]
  },
  {
   "cell_type": "code",
   "execution_count": 33,
   "metadata": {},
   "outputs": [
    {
     "name": "stdout",
     "output_type": "stream",
     "text": [
      "<class 'list'>\n"
     ]
    }
   ],
   "source": [
    "print(type(small_range))"
   ]
  },
  {
   "cell_type": "code",
   "execution_count": 34,
   "metadata": {},
   "outputs": [
    {
     "name": "stdout",
     "output_type": "stream",
     "text": [
      "       country continent  year  lifeExp       pop\n",
      "0  Afghanistan      Asia  1952   28.801   8425333\n",
      "1  Afghanistan      Asia  1957   30.332   9240934\n",
      "2  Afghanistan      Asia  1962   31.997  10267083\n",
      "3  Afghanistan      Asia  1967   34.020  11537966\n",
      "4  Afghanistan      Asia  1972   36.088  13079460\n"
     ]
    }
   ],
   "source": [
    "subset = df.iloc[:, small_range] \n",
    "print(subset.head())"
   ]
  },
  {
   "cell_type": "code",
   "execution_count": 35,
   "metadata": {},
   "outputs": [
    {
     "name": "stdout",
     "output_type": "stream",
     "text": [
      "[3, 4, 5]\n"
     ]
    }
   ],
   "source": [
    "small_range = list(range(3, 6)) \n",
    "print(small_range)"
   ]
  },
  {
   "cell_type": "code",
   "execution_count": 36,
   "metadata": {},
   "outputs": [
    {
     "name": "stdout",
     "output_type": "stream",
     "text": [
      "   lifeExp       pop   gdpPercap\n",
      "0   28.801   8425333  779.445314\n",
      "1   30.332   9240934  820.853030\n",
      "2   31.997  10267083  853.100710\n",
      "3   34.020  11537966  836.197138\n",
      "4   36.088  13079460  739.981106\n"
     ]
    }
   ],
   "source": [
    "subset = df.iloc[:, small_range] \n",
    "print(subset.head())"
   ]
  },
  {
   "cell_type": "code",
   "execution_count": 37,
   "metadata": {},
   "outputs": [
    {
     "name": "stdout",
     "output_type": "stream",
     "text": [
      "       country  year       pop\n",
      "0  Afghanistan  1952   8425333\n",
      "1  Afghanistan  1957   9240934\n",
      "2  Afghanistan  1962  10267083\n",
      "3  Afghanistan  1967  11537966\n",
      "4  Afghanistan  1972  13079460\n"
     ]
    }
   ],
   "source": [
    "small_range = list(range(0, 6, 2)) \n",
    "subset = df.iloc[:, small_range] \n",
    "print(subset.head())"
   ]
  },
  {
   "cell_type": "markdown",
   "metadata": {},
   "source": [
    "### 4. 슬라이싱, range 메서드 비교하기"
   ]
  },
  {
   "cell_type": "code",
   "execution_count": 38,
   "metadata": {},
   "outputs": [
    {
     "name": "stdout",
     "output_type": "stream",
     "text": [
      "       country continent  year\n",
      "0  Afghanistan      Asia  1952\n",
      "1  Afghanistan      Asia  1957\n",
      "2  Afghanistan      Asia  1962\n",
      "3  Afghanistan      Asia  1967\n",
      "4  Afghanistan      Asia  1972\n"
     ]
    }
   ],
   "source": [
    "subset = df.iloc[:, :3] \n",
    "print(subset.head())"
   ]
  },
  {
   "cell_type": "code",
   "execution_count": 39,
   "metadata": {},
   "outputs": [
    {
     "name": "stdout",
     "output_type": "stream",
     "text": [
      "       country  year       pop\n",
      "0  Afghanistan  1952   8425333\n",
      "1  Afghanistan  1957   9240934\n",
      "2  Afghanistan  1962  10267083\n",
      "3  Afghanistan  1967  11537966\n",
      "4  Afghanistan  1972  13079460\n"
     ]
    }
   ],
   "source": [
    "subset = df.iloc[:, 0:6:2] \n",
    "print(subset.head())"
   ]
  },
  {
   "cell_type": "markdown",
   "metadata": {},
   "source": [
    "### 5. loc, iloc 속성 자유자재로 사용하기"
   ]
  },
  {
   "cell_type": "code",
   "execution_count": 9,
   "metadata": {},
   "outputs": [
    {
     "name": "stdout",
     "output_type": "stream",
     "text": [
      "         country  lifeExp    gdpPercap\n",
      "0    Afghanistan   28.801   779.445314\n",
      "99    Bangladesh   43.453   721.186086\n",
      "999     Mongolia   51.253  1226.041130\n"
     ]
    }
   ],
   "source": [
    "print(df.iloc[[0, 99, 999], [0, 3, 5]])"
   ]
  },
  {
   "cell_type": "code",
   "execution_count": 41,
   "metadata": {},
   "outputs": [
    {
     "name": "stdout",
     "output_type": "stream",
     "text": [
      "         country  lifeExp    gdpPercap\n",
      "0    Afghanistan   28.801   779.445314\n",
      "99    Bangladesh   43.453   721.186086\n",
      "999     Mongolia   51.253  1226.041130\n"
     ]
    }
   ],
   "source": [
    "print(df.loc[[0, 99, 999], ['country', 'lifeExp', 'gdpPercap']])"
   ]
  },
  {
   "cell_type": "code",
   "execution_count": 42,
   "metadata": {},
   "outputs": [
    {
     "name": "stdout",
     "output_type": "stream",
     "text": [
      "        country  lifeExp    gdpPercap\n",
      "10  Afghanistan   42.129   726.734055\n",
      "11  Afghanistan   43.828   974.580338\n",
      "12      Albania   55.230  1601.056136\n",
      "13      Albania   59.280  1942.284244\n"
     ]
    }
   ],
   "source": [
    "print(df.loc[10:13, ['country', 'lifeExp', 'gdpPercap']])"
   ]
  },
  {
   "cell_type": "markdown",
   "metadata": {},
   "source": [
    "# 직접 해보세요!\n",
    "## 그룹화한 데이터의 평균 구하기(44쪽)\n",
    "### 1. lifeExp 열을 연도별로 그룹화하여 평균 계산하기"
   ]
  },
  {
   "cell_type": "code",
   "execution_count": 8,
   "metadata": {
    "scrolled": true
   },
   "outputs": [],
   "source": [
    "# print(df.head(n=10))"
   ]
  },
  {
   "cell_type": "code",
   "execution_count": 10,
   "metadata": {},
   "outputs": [
    {
     "name": "stdout",
     "output_type": "stream",
     "text": [
      "year\n",
      "1952    49.057620\n",
      "1957    51.507401\n",
      "1962    53.609249\n",
      "1967    55.678290\n",
      "1972    57.647386\n",
      "1977    59.570157\n",
      "1982    61.533197\n",
      "1987    63.212613\n",
      "1992    64.160338\n",
      "1997    65.014676\n",
      "2002    65.694923\n",
      "2007    67.007423\n",
      "Name: lifeExp, dtype: float64\n"
     ]
    }
   ],
   "source": [
    "print(df.groupby('year')['lifeExp'].mean())"
   ]
  },
  {
   "cell_type": "code",
   "execution_count": 12,
   "metadata": {},
   "outputs": [
    {
     "name": "stdout",
     "output_type": "stream",
     "text": [
      "<class 'pandas.core.groupby.groupby.DataFrameGroupBy'>\n"
     ]
    }
   ],
   "source": [
    "grouped_year_df = df.groupby('year')\n",
    "print(type(grouped_year_df))"
   ]
  },
  {
   "cell_type": "code",
   "execution_count": 13,
   "metadata": {},
   "outputs": [
    {
     "name": "stdout",
     "output_type": "stream",
     "text": [
      "<pandas.core.groupby.groupby.DataFrameGroupBy object at 0x0000028E8CCD2278>\n"
     ]
    }
   ],
   "source": [
    "print(grouped_year_df)"
   ]
  },
  {
   "cell_type": "code",
   "execution_count": 14,
   "metadata": {},
   "outputs": [
    {
     "name": "stdout",
     "output_type": "stream",
     "text": [
      "<class 'pandas.core.groupby.groupby.SeriesGroupBy'>\n"
     ]
    }
   ],
   "source": [
    "grouped_year_df_lifeExp = grouped_year_df['lifeExp'] \n",
    "print(type(grouped_year_df_lifeExp))"
   ]
  },
  {
   "cell_type": "code",
   "execution_count": 15,
   "metadata": {},
   "outputs": [
    {
     "name": "stdout",
     "output_type": "stream",
     "text": [
      "year\n",
      "1952    49.057620\n",
      "1957    51.507401\n",
      "1962    53.609249\n",
      "1967    55.678290\n",
      "1972    57.647386\n",
      "1977    59.570157\n",
      "1982    61.533197\n",
      "1987    63.212613\n",
      "1992    64.160338\n",
      "1997    65.014676\n",
      "2002    65.694923\n",
      "2007    67.007423\n",
      "Name: lifeExp, dtype: float64\n"
     ]
    }
   ],
   "source": [
    "mean_lifeExp_by_year = grouped_year_df_lifeExp.mean() \n",
    "print(mean_lifeExp_by_year)"
   ]
  },
  {
   "cell_type": "markdown",
   "metadata": {},
   "source": [
    "### 6. lifeExp, gdpPercap 열의 평균값을 연도, 지역별로 그룹화하여 한 번에 계산하기"
   ]
  },
  {
   "cell_type": "code",
   "execution_count": 49,
   "metadata": {
    "collapsed": true
   },
   "outputs": [
    {
     "name": "stdout",
     "output_type": "stream",
     "text": [
      "                  lifeExp     gdpPercap\n",
      "year continent                         \n",
      "1952 Africa     39.135500   1252.572466\n",
      "     Americas   53.279840   4079.062552\n",
      "     Asia       46.314394   5195.484004\n",
      "     Europe     64.408500   5661.057435\n",
      "     Oceania    69.255000  10298.085650\n",
      "1957 Africa     41.266346   1385.236062\n",
      "     Americas   55.960280   4616.043733\n",
      "     Asia       49.318544   5787.732940\n",
      "     Europe     66.703067   6963.012816\n",
      "     Oceania    70.295000  11598.522455\n",
      "1962 Africa     43.319442   1598.078825\n",
      "     Americas   58.398760   4901.541870\n",
      "     Asia       51.563223   5729.369625\n",
      "     Europe     68.539233   8365.486814\n",
      "     Oceania    71.085000  12696.452430\n",
      "1967 Africa     45.334538   2050.363801\n",
      "     Americas   60.410920   5668.253496\n",
      "     Asia       54.663640   5971.173374\n",
      "     Europe     69.737600  10143.823757\n",
      "     Oceania    71.310000  14495.021790\n",
      "1972 Africa     47.450942   2339.615674\n",
      "     Americas   62.394920   6491.334139\n",
      "     Asia       57.319269   8187.468699\n",
      "     Europe     70.775033  12479.575246\n",
      "     Oceania    71.910000  16417.333380\n",
      "1977 Africa     49.580423   2585.938508\n",
      "     Americas   64.391560   7352.007126\n",
      "     Asia       59.610556   7791.314020\n",
      "     Europe     71.937767  14283.979110\n",
      "     Oceania    72.855000  17283.957605\n",
      "1982 Africa     51.592865   2481.592960\n",
      "     Americas   66.228840   7506.737088\n",
      "     Asia       62.617939   7434.135157\n",
      "     Europe     72.806400  15617.896551\n",
      "     Oceania    74.290000  18554.709840\n",
      "1987 Africa     53.344788   2282.668991\n",
      "     Americas   68.090720   7793.400261\n",
      "     Asia       64.851182   7608.226508\n",
      "     Europe     73.642167  17214.310727\n",
      "     Oceania    75.320000  20448.040160\n",
      "1992 Africa     53.629577   2281.810333\n",
      "     Americas   69.568360   8044.934406\n",
      "     Asia       66.537212   8639.690248\n",
      "     Europe     74.440100  17061.568084\n",
      "     Oceania    76.945000  20894.045885\n",
      "1997 Africa     53.598269   2378.759555\n",
      "     Americas   71.150480   8889.300863\n",
      "     Asia       68.020515   9834.093295\n",
      "     Europe     75.505167  19076.781802\n",
      "     Oceania    78.190000  24024.175170\n",
      "2002 Africa     53.325231   2599.385159\n",
      "     Americas   72.422040   9287.677107\n",
      "     Asia       69.233879  10174.090397\n",
      "     Europe     76.700600  21711.732422\n",
      "     Oceania    79.740000  26938.778040\n",
      "2007 Africa     54.806038   3089.032605\n",
      "     Americas   73.608120  11003.031625\n",
      "     Asia       70.728485  12473.026870\n",
      "     Europe     77.648600  25054.481636\n",
      "     Oceania    80.719500  29810.188275\n"
     ]
    }
   ],
   "source": [
    "multi_group_var = df.groupby(['year', 'continent'])[['lifeExp', 'gdpPercap']].mean() \n",
    "print(multi_group_var)"
   ]
  },
  {
   "cell_type": "code",
   "execution_count": 50,
   "metadata": {},
   "outputs": [
    {
     "name": "stdout",
     "output_type": "stream",
     "text": [
      "<class 'pandas.core.frame.DataFrame'>\n"
     ]
    }
   ],
   "source": [
    "print(type(multi_group_var))"
   ]
  },
  {
   "cell_type": "markdown",
   "metadata": {},
   "source": [
    "### 7. 그룹화한 데이터의 개수 세기"
   ]
  },
  {
   "cell_type": "code",
   "execution_count": 18,
   "metadata": {},
   "outputs": [
    {
     "name": "stdout",
     "output_type": "stream",
     "text": [
      "continent\n",
      "Africa      52\n",
      "Americas    25\n",
      "Asia        33\n",
      "Europe      30\n",
      "Oceania      2\n",
      "Name: country, dtype: int64\n"
     ]
    }
   ],
   "source": [
    "print(df.groupby('continent')['country'].nunique())"
   ]
  },
  {
   "cell_type": "markdown",
   "metadata": {},
   "source": [
    "# 직접 해보세요!\n",
    "## 그래프 그리기(48쪽)"
   ]
  },
  {
   "cell_type": "code",
   "execution_count": 19,
   "metadata": {},
   "outputs": [],
   "source": [
    "%matplotlib inline\n",
    "import matplotlib.pyplot as plt"
   ]
  },
  {
   "cell_type": "code",
   "execution_count": 21,
   "metadata": {},
   "outputs": [
    {
     "name": "stdout",
     "output_type": "stream",
     "text": [
      "year\n",
      "1952    49.057620\n",
      "1957    51.507401\n",
      "1962    53.609249\n",
      "1967    55.678290\n",
      "1972    57.647386\n",
      "1977    59.570157\n",
      "1982    61.533197\n",
      "1987    63.212613\n",
      "1992    64.160338\n",
      "1997    65.014676\n",
      "2002    65.694923\n",
      "2007    67.007423\n",
      "Name: lifeExp, dtype: float64\n"
     ]
    }
   ],
   "source": [
    "global_yearly_life_expectancy = df.groupby('year')['lifeExp'].mean() \n",
    "print(global_yearly_life_expectancy)"
   ]
  },
  {
   "cell_type": "code",
   "execution_count": 22,
   "metadata": {},
   "outputs": [
    {
     "data": {
      "text/plain": [
       "<matplotlib.axes._subplots.AxesSubplot at 0x28e8d71f908>"
      ]
     },
     "execution_count": 22,
     "metadata": {},
     "output_type": "execute_result"
    },
    {
     "data": {
      "image/png": "[encoded data removed]",
      "text/plain": [
       "<Figure size 432x288 with 1 Axes>"
      ]
     },
     "metadata": {},
     "output_type": "display_data"
    }
   ],
   "source": [
    "global_yearly_life_expectancy.plot()"
   ]
  }
 ],
 "metadata": {
  "kernelspec": {
   "display_name": "Python 3",
   "language": "python",
   "name": "python3"
  },
  "language_info": {
   "codemirror_mode": {
    "name": "ipython",
    "version": 3
   },
   "file_extension": ".py",
   "mimetype": "text/x-python",
   "name": "python",
   "nbconvert_exporter": "python",
   "pygments_lexer": "ipython3",
   "version": "3.6.5"
  }
 },
 "nbformat": 4,
 "nbformat_minor": 2
}
