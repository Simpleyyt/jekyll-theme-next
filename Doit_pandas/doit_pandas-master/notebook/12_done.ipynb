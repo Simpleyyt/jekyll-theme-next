{
 "cells": [
  {
   "cell_type": "markdown",
   "metadata": {},
   "source": [
    "# 직접 해보세요!\n",
    "## datetime 오브젝트 사용하기(238쪽)"
   ]
  },
  {
   "cell_type": "code",
   "execution_count": 113,
   "metadata": {},
   "outputs": [],
   "source": [
    "from datetime import datetime"
   ]
  },
  {
   "cell_type": "code",
   "execution_count": 114,
   "metadata": {},
   "outputs": [
    {
     "name": "stdout",
     "output_type": "stream",
     "text": [
      "2018-08-27 17:10:47.880731\n"
     ]
    }
   ],
   "source": [
    "now1 = datetime.now() \n",
    "print(now1)"
   ]
  },
  {
   "cell_type": "code",
   "execution_count": 115,
   "metadata": {},
   "outputs": [
    {
     "name": "stdout",
     "output_type": "stream",
     "text": [
      "2018-08-27 17:10:48.088284\n"
     ]
    }
   ],
   "source": [
    "now2 = datetime.today()\n",
    "print(now2) "
   ]
  },
  {
   "cell_type": "code",
   "execution_count": 116,
   "metadata": {},
   "outputs": [
    {
     "name": "stdout",
     "output_type": "stream",
     "text": [
      "2018-08-27 17:10:48.312881\n",
      "1970-01-01 00:00:00\n",
      "1970-12-12 13:24:34\n"
     ]
    }
   ],
   "source": [
    "t1 = datetime.now() \n",
    "t2 = datetime(1970, 1, 1)\n",
    "t3 = datetime(1970, 12, 12, 13, 24, 34)\n",
    "\n",
    "print(t1)\n",
    "print(t2)\n",
    "print(t3)"
   ]
  },
  {
   "cell_type": "code",
   "execution_count": 117,
   "metadata": {},
   "outputs": [
    {
     "name": "stdout",
     "output_type": "stream",
     "text": [
      "17770 days, 17:10:48.312881\n",
      "<class 'datetime.timedelta'>\n"
     ]
    }
   ],
   "source": [
    "diff1 = t1 - t2\n",
    "\n",
    "print(diff1)\n",
    "print(type(diff1))"
   ]
  },
  {
   "cell_type": "code",
   "execution_count": 118,
   "metadata": {},
   "outputs": [
    {
     "name": "stdout",
     "output_type": "stream",
     "text": [
      "-17771 days, 6:49:11.687119\n",
      "<class 'datetime.timedelta'>\n"
     ]
    }
   ],
   "source": [
    "diff2 = t2 - t1\n",
    "\n",
    "print(diff2)\n",
    "print(type(diff2))"
   ]
  },
  {
   "cell_type": "markdown",
   "metadata": {},
   "source": [
    "# 직접 해보세요!\n",
    "## 문자열을 datetime 오브젝트로 변환하기(240쪽)"
   ]
  },
  {
   "cell_type": "code",
   "execution_count": 119,
   "metadata": {},
   "outputs": [],
   "source": [
    "import pandas as pd \n",
    "import os\n",
    "ebola = pd.read_csv('../data/country_timeseries.csv')"
   ]
  },
  {
   "cell_type": "code",
   "execution_count": 120,
   "metadata": {},
   "outputs": [
    {
     "name": "stdout",
     "output_type": "stream",
     "text": [
      "<class 'pandas.core.frame.DataFrame'>\n",
      "RangeIndex: 122 entries, 0 to 121\n",
      "Data columns (total 18 columns):\n",
      "Date                   122 non-null object\n",
      "Day                    122 non-null int64\n",
      "Cases_Guinea           93 non-null float64\n",
      "Cases_Liberia          83 non-null float64\n",
      "Cases_SierraLeone      87 non-null float64\n",
      "Cases_Nigeria          38 non-null float64\n",
      "Cases_Senegal          25 non-null float64\n",
      "Cases_UnitedStates     18 non-null float64\n",
      "Cases_Spain            16 non-null float64\n",
      "Cases_Mali             12 non-null float64\n",
      "Deaths_Guinea          92 non-null float64\n",
      "Deaths_Liberia         81 non-null float64\n",
      "Deaths_SierraLeone     87 non-null float64\n",
      "Deaths_Nigeria         38 non-null float64\n",
      "Deaths_Senegal         22 non-null float64\n",
      "Deaths_UnitedStates    18 non-null float64\n",
      "Deaths_Spain           16 non-null float64\n",
      "Deaths_Mali            12 non-null float64\n",
      "dtypes: float64(16), int64(1), object(1)\n",
      "memory usage: 17.2+ KB\n",
      "None\n"
     ]
    }
   ],
   "source": [
    "print(ebola.info())"
   ]
  },
  {
   "cell_type": "code",
   "execution_count": 121,
   "metadata": {},
   "outputs": [
    {
     "name": "stdout",
     "output_type": "stream",
     "text": [
      "<class 'pandas.core.frame.DataFrame'>\n",
      "RangeIndex: 122 entries, 0 to 121\n",
      "Data columns (total 19 columns):\n",
      "Date                   122 non-null object\n",
      "Day                    122 non-null int64\n",
      "Cases_Guinea           93 non-null float64\n",
      "Cases_Liberia          83 non-null float64\n",
      "Cases_SierraLeone      87 non-null float64\n",
      "Cases_Nigeria          38 non-null float64\n",
      "Cases_Senegal          25 non-null float64\n",
      "Cases_UnitedStates     18 non-null float64\n",
      "Cases_Spain            16 non-null float64\n",
      "Cases_Mali             12 non-null float64\n",
      "Deaths_Guinea          92 non-null float64\n",
      "Deaths_Liberia         81 non-null float64\n",
      "Deaths_SierraLeone     87 non-null float64\n",
      "Deaths_Nigeria         38 non-null float64\n",
      "Deaths_Senegal         22 non-null float64\n",
      "Deaths_UnitedStates    18 non-null float64\n",
      "Deaths_Spain           16 non-null float64\n",
      "Deaths_Mali            12 non-null float64\n",
      "date_dt                122 non-null datetime64[ns]\n",
      "dtypes: datetime64[ns](1), float64(16), int64(1), object(1)\n",
      "memory usage: 18.2+ KB\n",
      "None\n"
     ]
    }
   ],
   "source": [
    "ebola['date_dt'] = pd.to_datetime(ebola['Date'])\n",
    "print(ebola.info())"
   ]
  },
  {
   "cell_type": "code",
   "execution_count": 122,
   "metadata": {},
   "outputs": [
    {
     "name": "stdout",
     "output_type": "stream",
     "text": [
      "  order_day   date_dt1   date_dt2   date_dt3\n",
      "0  01/01/15 2015-01-01 2015-01-01 2001-01-15\n",
      "1  02/01/15 2015-01-02 2015-02-01 2002-01-15\n",
      "2  03/01/15 2015-01-03 2015-03-01 2003-01-15\n"
     ]
    }
   ],
   "source": [
    "test_df1 = pd.DataFrame({'order_day':['01/01/15', '02/01/15', '03/01/15']})\n",
    "\n",
    "test_df1['date_dt1'] = pd.to_datetime(test_df1['order_day'], format='%d/%m/%y')\n",
    "test_df1['date_dt2'] = pd.to_datetime(test_df1['order_day'], format='%m/%d/%y')\n",
    "test_df1['date_dt3'] = pd.to_datetime(test_df1['order_day'], format='%y/%m/%d')\n",
    "\n",
    "print(test_df1)"
   ]
  },
  {
   "cell_type": "code",
   "execution_count": 123,
   "metadata": {},
   "outputs": [
    {
     "name": "stdout",
     "output_type": "stream",
     "text": [
      "  order_day    date_dt\n",
      "0  01-01-15 2015-01-01\n",
      "1  02-01-15 2015-01-02\n",
      "2  03-01-15 2015-01-03\n"
     ]
    }
   ],
   "source": [
    "test_df2 = pd.DataFrame({'order_day':['01-01-15', '02-01-15', '03-01-15']})\n",
    "test_df2['date_dt'] = pd.to_datetime(test_df2['order_day'], format='%d-%m-%y')\n",
    "\n",
    "print(test_df2)"
   ]
  },
  {
   "cell_type": "markdown",
   "metadata": {},
   "source": [
    "# 알아두면 좋아요!\n",
    "## 시계열 데이터를 구분해서 추출하고 싶어요(243쪽)"
   ]
  },
  {
   "cell_type": "code",
   "execution_count": 124,
   "metadata": {},
   "outputs": [
    {
     "name": "stdout",
     "output_type": "stream",
     "text": [
      "2018-08-27 17:10:51.920477\n"
     ]
    }
   ],
   "source": [
    "now = datetime.now()\n",
    "print(now)"
   ]
  },
  {
   "cell_type": "code",
   "execution_count": 125,
   "metadata": {},
   "outputs": [
    {
     "name": "stdout",
     "output_type": "stream",
     "text": [
      "2018-08-27\n"
     ]
    }
   ],
   "source": [
    "nowDate = now.strftime('%Y-%m-%d')\n",
    "print(nowDate)"
   ]
  },
  {
   "cell_type": "code",
   "execution_count": 126,
   "metadata": {},
   "outputs": [
    {
     "name": "stdout",
     "output_type": "stream",
     "text": [
      "17:10:51\n"
     ]
    }
   ],
   "source": [
    "nowTime = now.strftime('%H:%M:%S')\n",
    "print(nowTime) "
   ]
  },
  {
   "cell_type": "code",
   "execution_count": 127,
   "metadata": {},
   "outputs": [
    {
     "name": "stdout",
     "output_type": "stream",
     "text": [
      "2018-08-27 17:10:51\n"
     ]
    }
   ],
   "source": [
    "nowDatetime = now.strftime('%Y-%m-%d %H:%M:%S')\n",
    "print(nowDatetime) "
   ]
  },
  {
   "cell_type": "markdown",
   "metadata": {},
   "source": [
    "# 직접 해보세요!\n",
    "## datetime 오브젝트로 변환하려는 열을 지정하여 데이터 집합 불러오기(244쪽)"
   ]
  },
  {
   "cell_type": "code",
   "execution_count": 128,
   "metadata": {},
   "outputs": [
    {
     "name": "stdout",
     "output_type": "stream",
     "text": [
      "<class 'pandas.core.frame.DataFrame'>\n",
      "RangeIndex: 122 entries, 0 to 121\n",
      "Data columns (total 18 columns):\n",
      "Date                   122 non-null datetime64[ns]\n",
      "Day                    122 non-null int64\n",
      "Cases_Guinea           93 non-null float64\n",
      "Cases_Liberia          83 non-null float64\n",
      "Cases_SierraLeone      87 non-null float64\n",
      "Cases_Nigeria          38 non-null float64\n",
      "Cases_Senegal          25 non-null float64\n",
      "Cases_UnitedStates     18 non-null float64\n",
      "Cases_Spain            16 non-null float64\n",
      "Cases_Mali             12 non-null float64\n",
      "Deaths_Guinea          92 non-null float64\n",
      "Deaths_Liberia         81 non-null float64\n",
      "Deaths_SierraLeone     87 non-null float64\n",
      "Deaths_Nigeria         38 non-null float64\n",
      "Deaths_Senegal         22 non-null float64\n",
      "Deaths_UnitedStates    18 non-null float64\n",
      "Deaths_Spain           16 non-null float64\n",
      "Deaths_Mali            12 non-null float64\n",
      "dtypes: datetime64[ns](1), float64(16), int64(1)\n",
      "memory usage: 17.2 KB\n",
      "None\n"
     ]
    }
   ],
   "source": [
    "ebola1 = pd.read_csv('../data/country_timeseries.csv', parse_dates=['Date']) \n",
    "print(ebola1.info())"
   ]
  },
  {
   "cell_type": "markdown",
   "metadata": {},
   "source": [
    "# 직접 해보세요!\n",
    "## datetime 오브젝트에서 날짜 정보 추출하기(244쪽)"
   ]
  },
  {
   "cell_type": "code",
   "execution_count": 129,
   "metadata": {},
   "outputs": [
    {
     "name": "stdout",
     "output_type": "stream",
     "text": [
      "0   2018-05-16\n",
      "1   2018-05-17\n",
      "2   2018-05-18\n",
      "dtype: datetime64[ns]\n"
     ]
    }
   ],
   "source": [
    "date_series = pd.Series(['2018-05-16', '2018-05-17', '2018-05-18'])\n",
    "d1 = pd.to_datetime(date_series) \n",
    "print(d1)"
   ]
  },
  {
   "cell_type": "code",
   "execution_count": 130,
   "metadata": {},
   "outputs": [
    {
     "name": "stdout",
     "output_type": "stream",
     "text": [
      "2018\n"
     ]
    }
   ],
   "source": [
    "print(d1[0].year)"
   ]
  },
  {
   "cell_type": "code",
   "execution_count": 131,
   "metadata": {},
   "outputs": [
    {
     "name": "stdout",
     "output_type": "stream",
     "text": [
      "5\n"
     ]
    }
   ],
   "source": [
    "print(d1[0].month)"
   ]
  },
  {
   "cell_type": "code",
   "execution_count": 132,
   "metadata": {},
   "outputs": [
    {
     "name": "stdout",
     "output_type": "stream",
     "text": [
      "16\n"
     ]
    }
   ],
   "source": [
    "print(d1[0].day)"
   ]
  },
  {
   "cell_type": "markdown",
   "metadata": {},
   "source": [
    "# 직접 해보세요!\n",
    "## dt 접근자로 시계열 데이터 정리하기(245쪽)"
   ]
  },
  {
   "cell_type": "code",
   "execution_count": 133,
   "metadata": {},
   "outputs": [],
   "source": [
    "ebola = pd.read_csv('../data/country_timeseries.csv')\n",
    "ebola['date_dt'] = pd.to_datetime(ebola['Date'])"
   ]
  },
  {
   "cell_type": "code",
   "execution_count": 134,
   "metadata": {},
   "outputs": [
    {
     "name": "stdout",
     "output_type": "stream",
     "text": [
      "         Date    date_dt\n",
      "0    1/5/2015 2015-01-05\n",
      "1    1/4/2015 2015-01-04\n",
      "2    1/3/2015 2015-01-03\n",
      "3    1/2/2015 2015-01-02\n",
      "4  12/31/2014 2014-12-31\n"
     ]
    }
   ],
   "source": [
    "print(ebola[['Date', 'date_dt']].head())"
   ]
  },
  {
   "cell_type": "code",
   "execution_count": 135,
   "metadata": {},
   "outputs": [
    {
     "name": "stdout",
     "output_type": "stream",
     "text": [
      "2015\n"
     ]
    }
   ],
   "source": [
    "print(ebola['date_dt'][3].year)"
   ]
  },
  {
   "cell_type": "code",
   "execution_count": 136,
   "metadata": {},
   "outputs": [
    {
     "name": "stdout",
     "output_type": "stream",
     "text": [
      "1\n"
     ]
    }
   ],
   "source": [
    "print(ebola['date_dt'][3].month)"
   ]
  },
  {
   "cell_type": "code",
   "execution_count": 137,
   "metadata": {},
   "outputs": [
    {
     "name": "stdout",
     "output_type": "stream",
     "text": [
      "2\n"
     ]
    }
   ],
   "source": [
    "print(ebola['date_dt'][3].day)"
   ]
  },
  {
   "cell_type": "code",
   "execution_count": 138,
   "metadata": {},
   "outputs": [
    {
     "name": "stdout",
     "output_type": "stream",
     "text": [
      "         Date    date_dt  year\n",
      "0    1/5/2015 2015-01-05  2015\n",
      "1    1/4/2015 2015-01-04  2015\n",
      "2    1/3/2015 2015-01-03  2015\n",
      "3    1/2/2015 2015-01-02  2015\n",
      "4  12/31/2014 2014-12-31  2014\n"
     ]
    }
   ],
   "source": [
    "ebola['year'] = ebola['date_dt'].dt.year\n",
    "print(ebola[['Date', 'date_dt', 'year']].head())"
   ]
  },
  {
   "cell_type": "code",
   "execution_count": 139,
   "metadata": {},
   "outputs": [
    {
     "name": "stdout",
     "output_type": "stream",
     "text": [
      "         Date    date_dt  year  month  day\n",
      "0    1/5/2015 2015-01-05  2015      1    5\n",
      "1    1/4/2015 2015-01-04  2015      1    4\n",
      "2    1/3/2015 2015-01-03  2015      1    3\n",
      "3    1/2/2015 2015-01-02  2015      1    2\n",
      "4  12/31/2014 2014-12-31  2014     12   31\n"
     ]
    }
   ],
   "source": [
    "ebola['month'], ebola['day'] = (ebola['date_dt'].dt.month, ebola['date_dt'].dt.day)\n",
    "\n",
    "print(ebola[['Date', 'date_dt', 'year', 'month', 'day']].head())"
   ]
  },
  {
   "cell_type": "code",
   "execution_count": 140,
   "metadata": {},
   "outputs": [
    {
     "name": "stdout",
     "output_type": "stream",
     "text": [
      "<class 'pandas.core.frame.DataFrame'>\n",
      "RangeIndex: 122 entries, 0 to 121\n",
      "Data columns (total 22 columns):\n",
      "Date                   122 non-null object\n",
      "Day                    122 non-null int64\n",
      "Cases_Guinea           93 non-null float64\n",
      "Cases_Liberia          83 non-null float64\n",
      "Cases_SierraLeone      87 non-null float64\n",
      "Cases_Nigeria          38 non-null float64\n",
      "Cases_Senegal          25 non-null float64\n",
      "Cases_UnitedStates     18 non-null float64\n",
      "Cases_Spain            16 non-null float64\n",
      "Cases_Mali             12 non-null float64\n",
      "Deaths_Guinea          92 non-null float64\n",
      "Deaths_Liberia         81 non-null float64\n",
      "Deaths_SierraLeone     87 non-null float64\n",
      "Deaths_Nigeria         38 non-null float64\n",
      "Deaths_Senegal         22 non-null float64\n",
      "Deaths_UnitedStates    18 non-null float64\n",
      "Deaths_Spain           16 non-null float64\n",
      "Deaths_Mali            12 non-null float64\n",
      "date_dt                122 non-null datetime64[ns]\n",
      "year                   122 non-null int64\n",
      "month                  122 non-null int64\n",
      "day                    122 non-null int64\n",
      "dtypes: datetime64[ns](1), float64(16), int64(4), object(1)\n",
      "memory usage: 21.0+ KB\n",
      "None\n"
     ]
    }
   ],
   "source": [
    "print(ebola.info())"
   ]
  },
  {
   "cell_type": "markdown",
   "metadata": {},
   "source": [
    "# 직접 해보세요!\n",
    "## 에볼라 최초 발병일 계산하기(248쪽)"
   ]
  },
  {
   "cell_type": "code",
   "execution_count": 141,
   "metadata": {},
   "outputs": [
    {
     "name": "stdout",
     "output_type": "stream",
     "text": [
      "          Date  Day  Cases_Guinea  Cases_Liberia  Cases_SierraLeone\n",
      "117  3/27/2014    5         103.0            8.0                6.0\n",
      "118  3/26/2014    4          86.0            NaN                NaN\n",
      "119  3/25/2014    3          86.0            NaN                NaN\n",
      "120  3/24/2014    2          86.0            NaN                NaN\n",
      "121  3/22/2014    0          49.0            NaN                NaN\n"
     ]
    }
   ],
   "source": [
    "print(ebola.iloc[-5:, :5])"
   ]
  },
  {
   "cell_type": "code",
   "execution_count": 142,
   "metadata": {},
   "outputs": [
    {
     "name": "stdout",
     "output_type": "stream",
     "text": [
      "2014-03-22 00:00:00\n",
      "<class 'pandas._libs.tslibs.timestamps.Timestamp'>\n"
     ]
    }
   ],
   "source": [
    "print(ebola['date_dt'].min())\n",
    "print(type(ebola['date_dt'].min()))"
   ]
  },
  {
   "cell_type": "code",
   "execution_count": 143,
   "metadata": {},
   "outputs": [
    {
     "name": "stdout",
     "output_type": "stream",
     "text": [
      "         Date  Day outbreak_d\n",
      "0    1/5/2015  289   289 days\n",
      "1    1/4/2015  288   288 days\n",
      "2    1/3/2015  287   287 days\n",
      "3    1/2/2015  286   286 days\n",
      "4  12/31/2014  284   284 days\n"
     ]
    }
   ],
   "source": [
    "ebola['outbreak_d'] = ebola['date_dt'] - ebola['date_dt'].min()\n",
    "\n",
    "print(ebola[['Date', 'Day', 'outbreak_d']].head())"
   ]
  },
  {
   "cell_type": "markdown",
   "metadata": {},
   "source": [
    "# 직접 해보세요!\n",
    "## 파산한 은행의 개수 계산하기(249쪽)"
   ]
  },
  {
   "cell_type": "code",
   "execution_count": 144,
   "metadata": {},
   "outputs": [
    {
     "name": "stdout",
     "output_type": "stream",
     "text": [
      "                                           Bank Name         City  ST   CERT  \\\n",
      "0                Washington Federal Bank for Savings      Chicago  IL  30570   \n",
      "1    The Farmers and Merchants State Bank of Argonia      Argonia  KS  17719   \n",
      "2                                Fayette County Bank   Saint Elmo  IL   1802   \n",
      "3  Guaranty Bank, (d/b/a BestBank in Georgia & Mi...    Milwaukee  WI  30003   \n",
      "4                                     First NBC Bank  New Orleans  LA  58302   \n",
      "\n",
      "                 Acquiring Institution Closing Date Updated Date  \n",
      "0                   Royal Savings Bank    15-Dec-17    20-Dec-17  \n",
      "1                          Conway Bank    13-Oct-17    20-Oct-17  \n",
      "2            United Fidelity Bank, fsb    26-May-17    26-Jul-17  \n",
      "3  First-Citizens Bank & Trust Company     5-May-17    26-Jul-17  \n",
      "4                         Whitney Bank    28-Apr-17     5-Dec-17  \n"
     ]
    }
   ],
   "source": [
    "banks = pd.read_csv('../data/banklist.csv') \n",
    "print(banks.head())"
   ]
  },
  {
   "cell_type": "code",
   "execution_count": 145,
   "metadata": {},
   "outputs": [
    {
     "name": "stdout",
     "output_type": "stream",
     "text": [
      "<class 'pandas.core.frame.DataFrame'>\n",
      "RangeIndex: 555 entries, 0 to 554\n",
      "Data columns (total 7 columns):\n",
      "Bank Name                555 non-null object\n",
      "City                     555 non-null object\n",
      "ST                       555 non-null object\n",
      "CERT                     555 non-null int64\n",
      "Acquiring Institution    555 non-null object\n",
      "Closing Date             555 non-null object\n",
      "Updated Date             555 non-null object\n",
      "dtypes: int64(1), object(6)\n",
      "memory usage: 30.4+ KB\n",
      "None\n"
     ]
    }
   ],
   "source": [
    "banks_no_dates = pd.read_csv('../data/banklist.csv')\n",
    "print(banks_no_dates.info())"
   ]
  },
  {
   "cell_type": "code",
   "execution_count": 146,
   "metadata": {},
   "outputs": [
    {
     "name": "stdout",
     "output_type": "stream",
     "text": [
      "<class 'pandas.core.frame.DataFrame'>\n",
      "RangeIndex: 555 entries, 0 to 554\n",
      "Data columns (total 7 columns):\n",
      "Bank Name                555 non-null object\n",
      "City                     555 non-null object\n",
      "ST                       555 non-null object\n",
      "CERT                     555 non-null int64\n",
      "Acquiring Institution    555 non-null object\n",
      "Closing Date             555 non-null datetime64[ns]\n",
      "Updated Date             555 non-null datetime64[ns]\n",
      "dtypes: datetime64[ns](2), int64(1), object(4)\n",
      "memory usage: 30.4+ KB\n",
      "None\n"
     ]
    }
   ],
   "source": [
    "banks = pd.read_csv('../data/banklist.csv', parse_dates=[5, 6]) \n",
    "print(banks.info())"
   ]
  },
  {
   "cell_type": "code",
   "execution_count": 147,
   "metadata": {},
   "outputs": [
    {
     "name": "stdout",
     "output_type": "stream",
     "text": [
      "                                           Bank Name         City  ST   CERT  \\\n",
      "0                Washington Federal Bank for Savings      Chicago  IL  30570   \n",
      "1    The Farmers and Merchants State Bank of Argonia      Argonia  KS  17719   \n",
      "2                                Fayette County Bank   Saint Elmo  IL   1802   \n",
      "3  Guaranty Bank, (d/b/a BestBank in Georgia & Mi...    Milwaukee  WI  30003   \n",
      "4                                     First NBC Bank  New Orleans  LA  58302   \n",
      "\n",
      "                 Acquiring Institution Closing Date Updated Date  \\\n",
      "0                   Royal Savings Bank   2017-12-15   2017-12-20   \n",
      "1                          Conway Bank   2017-10-13   2017-10-20   \n",
      "2            United Fidelity Bank, fsb   2017-05-26   2017-07-26   \n",
      "3  First-Citizens Bank & Trust Company   2017-05-05   2017-07-26   \n",
      "4                         Whitney Bank   2017-04-28   2017-12-05   \n",
      "\n",
      "   closing_quarter  closing_year  \n",
      "0                4          2017  \n",
      "1                4          2017  \n",
      "2                2          2017  \n",
      "3                2          2017  \n",
      "4                2          2017  \n"
     ]
    }
   ],
   "source": [
    "banks['closing_quarter'], banks['closing_year'] = (banks['Closing Date'].dt.quarter, banks['Closing Date'].dt.year)\n",
    "\n",
    "print(banks.head())"
   ]
  },
  {
   "cell_type": "code",
   "execution_count": 148,
   "metadata": {},
   "outputs": [
    {
     "name": "stdout",
     "output_type": "stream",
     "text": [
      "closing_year\n",
      "2000      2\n",
      "2001      4\n",
      "2002     11\n",
      "2003      3\n",
      "2004      4\n",
      "2007      3\n",
      "2008     25\n",
      "2009    140\n",
      "2010    157\n",
      "2011     92\n",
      "2012     51\n",
      "2013     24\n",
      "2014     18\n",
      "2015      8\n",
      "2016      5\n",
      "2017      8\n",
      "dtype: int64\n"
     ]
    }
   ],
   "source": [
    "closing_year = banks.groupby(['closing_year']).size()\n",
    "\n",
    "print(closing_year)"
   ]
  },
  {
   "cell_type": "code",
   "execution_count": 149,
   "metadata": {
    "scrolled": true
   },
   "outputs": [
    {
     "name": "stdout",
     "output_type": "stream",
     "text": [
      "closing_year  closing_quarter\n",
      "2000          4                   2\n",
      "2001          1                   1\n",
      "              2                   1\n",
      "              3                   2\n",
      "2002          1                   6\n",
      "              2                   2\n",
      "              3                   1\n",
      "              4                   2\n",
      "2003          1                   1\n",
      "              2                   1\n",
      "              4                   1\n",
      "2004          1                   3\n",
      "              2                   1\n",
      "2007          1                   1\n",
      "              3                   1\n",
      "              4                   1\n",
      "2008          1                   2\n",
      "              2                   2\n",
      "              3                   9\n",
      "              4                  12\n",
      "2009          1                  21\n",
      "              2                  24\n",
      "              3                  50\n",
      "              4                  45\n",
      "2010          1                  41\n",
      "              2                  45\n",
      "              3                  41\n",
      "              4                  30\n",
      "2011          1                  26\n",
      "              2                  22\n",
      "              3                  26\n",
      "              4                  18\n",
      "2012          1                  16\n",
      "              2                  15\n",
      "              3                  12\n",
      "              4                   8\n",
      "2013          1                   4\n",
      "              2                  12\n",
      "              3                   6\n",
      "              4                   2\n",
      "2014          1                   5\n",
      "              2                   7\n",
      "              3                   2\n",
      "              4                   4\n",
      "2015          1                   4\n",
      "              2                   1\n",
      "              3                   1\n",
      "              4                   2\n",
      "2016          1                   1\n",
      "              2                   2\n",
      "              3                   2\n",
      "2017          1                   3\n",
      "              2                   3\n",
      "              4                   2\n",
      "dtype: int64\n"
     ]
    }
   ],
   "source": [
    "closing_year_q = banks.groupby(['closing_year', 'closing_quarter']).size()\n",
    "\n",
    "print(closing_year_q)"
   ]
  },
  {
   "cell_type": "code",
   "execution_count": 150,
   "metadata": {},
   "outputs": [
    {
     "data": {
      "image/png": "[encoded data removed]",
      "text/plain": [
       "<Figure size 432x288 with 1 Axes>"
      ]
     },
     "metadata": {},
     "output_type": "display_data"
    },
    {
     "data": {
      "image/png": "[encoded data removed]",
      "text/plain": [
       "<Figure size 432x288 with 1 Axes>"
      ]
     },
     "metadata": {},
     "output_type": "display_data"
    }
   ],
   "source": [
    "import matplotlib.pyplot as plt\n",
    "\n",
    "fig, ax = plt.subplots()\n",
    "\n",
    "ax = closing_year.plot() \n",
    "plt.show()\n",
    "\n",
    "fig, ax = plt.subplots() \n",
    "ax = closing_year_q.plot() \n",
    "plt.show()"
   ]
  },
  {
   "cell_type": "markdown",
   "metadata": {},
   "source": [
    "# 직접 해보세요!\n",
    "## 테슬라 주식 데이터로 시간 계산하기(253쪽)"
   ]
  },
  {
   "cell_type": "code",
   "execution_count": 151,
   "metadata": {},
   "outputs": [],
   "source": [
    "pd.core.common.is_list_like = pd.api.types.is_list_like\n",
    "import pandas_datareader as pdr\n",
    "\n",
    "# tesla에는 데이터프레임이 저장됩니다.\n",
    "tesla = pdr.get_data_quandl('TSLA')\n",
    "\n",
    "# tesla에 저장된 데이터프레임을 파일로 저장합니다.\n",
    "tesla.to_csv('../data/tesla_stock_quandl.csv')"
   ]
  },
  {
   "cell_type": "code",
   "execution_count": 152,
   "metadata": {
    "scrolled": true
   },
   "outputs": [
    {
     "name": "stdout",
     "output_type": "stream",
     "text": [
      "              Open    High     Low   Close      Volume  ExDividend  \\\n",
      "Date                                                                 \n",
      "2018-03-27  304.00  304.27  277.18  279.18  13696168.0         0.0   \n",
      "2018-03-26  307.34  307.59  291.36  304.18   8324639.0         0.0   \n",
      "2018-03-23  311.25  311.61  300.45  301.54   6600538.0         0.0   \n",
      "2018-03-22  313.89  318.82  308.18  309.10   4914307.0         0.0   \n",
      "2018-03-21  310.25  322.44  310.19  316.53   5927881.0         0.0   \n",
      "\n",
      "            SplitRatio  AdjOpen  AdjHigh  AdjLow  AdjClose   AdjVolume  \n",
      "Date                                                                    \n",
      "2018-03-27         1.0   304.00   304.27  277.18    279.18  13696168.0  \n",
      "2018-03-26         1.0   307.34   307.59  291.36    304.18   8324639.0  \n",
      "2018-03-23         1.0   311.25   311.61  300.45    301.54   6600538.0  \n",
      "2018-03-22         1.0   313.89   318.82  308.18    309.10   4914307.0  \n",
      "2018-03-21         1.0   310.25   322.44  310.19    316.53   5927881.0  \n"
     ]
    }
   ],
   "source": [
    "print(tesla.head())"
   ]
  },
  {
   "cell_type": "code",
   "execution_count": 153,
   "metadata": {},
   "outputs": [
    {
     "name": "stdout",
     "output_type": "stream",
     "text": [
      "<class 'pandas.core.frame.DataFrame'>\n",
      "RangeIndex: 1949 entries, 0 to 1948\n",
      "Data columns (total 13 columns):\n",
      "Date          1949 non-null datetime64[ns]\n",
      "Open          1949 non-null float64\n",
      "High          1949 non-null float64\n",
      "Low           1949 non-null float64\n",
      "Close         1949 non-null float64\n",
      "Volume        1949 non-null float64\n",
      "ExDividend    1949 non-null float64\n",
      "SplitRatio    1949 non-null float64\n",
      "AdjOpen       1949 non-null float64\n",
      "AdjHigh       1949 non-null float64\n",
      "AdjLow        1949 non-null float64\n",
      "AdjClose      1949 non-null float64\n",
      "AdjVolume     1949 non-null float64\n",
      "dtypes: datetime64[ns](1), float64(12)\n",
      "memory usage: 198.0 KB\n",
      "None\n"
     ]
    }
   ],
   "source": [
    "tesla = pd.read_csv('../data/tesla_stock_quandl.csv', parse_dates=[0])\n",
    "print(tesla.info())"
   ]
  },
  {
   "cell_type": "code",
   "execution_count": 154,
   "metadata": {},
   "outputs": [
    {
     "name": "stdout",
     "output_type": "stream",
     "text": [
      "           Date   Open     High    Low  Close      Volume  ExDividend  \\\n",
      "1947 2010-06-30  25.79  30.4192  23.30  23.83  17187100.0         0.0   \n",
      "1948 2010-06-29  19.00  25.0000  17.54  23.89  18766300.0         0.0   \n",
      "\n",
      "      SplitRatio  AdjOpen  AdjHigh  AdjLow  AdjClose   AdjVolume  \n",
      "1947         1.0    25.79  30.4192   23.30     23.83  17187100.0  \n",
      "1948         1.0    19.00  25.0000   17.54     23.89  18766300.0  \n"
     ]
    }
   ],
   "source": [
    "print(tesla.loc[(tesla.Date.dt.year == 2010) & (tesla.Date.dt.month == 6)])"
   ]
  },
  {
   "cell_type": "markdown",
   "metadata": {},
   "source": [
    "# 직접 해보세요!\n",
    "## datetime 오브젝트를 인덱스로 설정하여 데이터 추출하기(255쪽)"
   ]
  },
  {
   "cell_type": "code",
   "execution_count": 155,
   "metadata": {},
   "outputs": [
    {
     "name": "stdout",
     "output_type": "stream",
     "text": [
      "DatetimeIndex(['2018-03-27', '2018-03-26', '2018-03-23', '2018-03-22',\n",
      "               '2018-03-21', '2018-03-20', '2018-03-19', '2018-03-16',\n",
      "               '2018-03-15', '2018-03-14',\n",
      "               ...\n",
      "               '2010-07-13', '2010-07-12', '2010-07-09', '2010-07-08',\n",
      "               '2010-07-07', '2010-07-06', '2010-07-02', '2010-07-01',\n",
      "               '2010-06-30', '2010-06-29'],\n",
      "              dtype='datetime64[ns]', name='Date', length=1949, freq=None)\n"
     ]
    }
   ],
   "source": [
    "tesla.index = tesla['Date'] \n",
    "print(tesla.index)"
   ]
  },
  {
   "cell_type": "code",
   "execution_count": 156,
   "metadata": {},
   "outputs": [
    {
     "name": "stdout",
     "output_type": "stream",
     "text": [
      "                 Date    Open     High       Low   Close\n",
      "Date                                                    \n",
      "2015-12-31 2015-12-31  238.51  243.450  238.3700  240.01\n",
      "2015-12-30 2015-12-30  236.60  243.634  235.6707  238.09\n",
      "2015-12-29 2015-12-29  230.06  237.720  229.5470  237.19\n",
      "2015-12-28 2015-12-28  231.49  231.980  225.5400  228.95\n",
      "2015-12-24 2015-12-24  230.56  231.880  228.2800  230.57\n"
     ]
    }
   ],
   "source": [
    "print(tesla['2015'].iloc[:5, :5])"
   ]
  },
  {
   "cell_type": "code",
   "execution_count": 157,
   "metadata": {},
   "outputs": [
    {
     "name": "stdout",
     "output_type": "stream",
     "text": [
      "                 Date   Open     High    Low  Close\n",
      "Date                                               \n",
      "2010-06-30 2010-06-30  25.79  30.4192  23.30  23.83\n",
      "2010-06-29 2010-06-29  19.00  25.0000  17.54  23.89\n"
     ]
    }
   ],
   "source": [
    "print(tesla['2010-06'].iloc[:, :5])"
   ]
  },
  {
   "cell_type": "markdown",
   "metadata": {},
   "source": [
    "# 직접 해보세요!\n",
    "## 시간 간격을 인덱스로 설정하여 데이터 추출하기(256쪽)"
   ]
  },
  {
   "cell_type": "code",
   "execution_count": 158,
   "metadata": {},
   "outputs": [
    {
     "name": "stdout",
     "output_type": "stream",
     "text": [
      "                 Date    Open    High     Low   Close      Volume  ExDividend  \\\n",
      "Date                                                                            \n",
      "2018-03-27 2018-03-27  304.00  304.27  277.18  279.18  13696168.0         0.0   \n",
      "2018-03-26 2018-03-26  307.34  307.59  291.36  304.18   8324639.0         0.0   \n",
      "2018-03-23 2018-03-23  311.25  311.61  300.45  301.54   6600538.0         0.0   \n",
      "2018-03-22 2018-03-22  313.89  318.82  308.18  309.10   4914307.0         0.0   \n",
      "2018-03-21 2018-03-21  310.25  322.44  310.19  316.53   5927881.0         0.0   \n",
      "\n",
      "            SplitRatio  AdjOpen  AdjHigh  AdjLow  AdjClose   AdjVolume  \\\n",
      "Date                                                                     \n",
      "2018-03-27         1.0   304.00   304.27  277.18    279.18  13696168.0   \n",
      "2018-03-26         1.0   307.34   307.59  291.36    304.18   8324639.0   \n",
      "2018-03-23         1.0   311.25   311.61  300.45    301.54   6600538.0   \n",
      "2018-03-22         1.0   313.89   318.82  308.18    309.10   4914307.0   \n",
      "2018-03-21         1.0   310.25   322.44  310.19    316.53   5927881.0   \n",
      "\n",
      "            ref_date  \n",
      "Date                  \n",
      "2018-03-27 2828 days  \n",
      "2018-03-26 2827 days  \n",
      "2018-03-23 2824 days  \n",
      "2018-03-22 2823 days  \n",
      "2018-03-21 2822 days  \n"
     ]
    }
   ],
   "source": [
    "tesla['ref_date'] = tesla['Date'] - tesla['Date'].min()\n",
    "\n",
    "print(tesla.head())"
   ]
  },
  {
   "cell_type": "code",
   "execution_count": 159,
   "metadata": {},
   "outputs": [
    {
     "name": "stdout",
     "output_type": "stream",
     "text": [
      "                Date    Open    High     Low   Close\n",
      "ref_date                                            \n",
      "2828 days 2018-03-27  304.00  304.27  277.18  279.18\n",
      "2827 days 2018-03-26  307.34  307.59  291.36  304.18\n",
      "2824 days 2018-03-23  311.25  311.61  300.45  301.54\n",
      "2823 days 2018-03-22  313.89  318.82  308.18  309.10\n",
      "2822 days 2018-03-21  310.25  322.44  310.19  316.53\n"
     ]
    }
   ],
   "source": [
    "tesla.index = tesla['ref_date']\n",
    "\n",
    "print(tesla.iloc[:5, :5])"
   ]
  },
  {
   "cell_type": "code",
   "execution_count": 160,
   "metadata": {},
   "outputs": [
    {
     "name": "stdout",
     "output_type": "stream",
     "text": [
      "               Date   Open     High    Low  Close\n",
      "ref_date                                         \n",
      "3 days   2010-07-02  23.00  23.1000  18.71  19.20\n",
      "2 days   2010-07-01  25.00  25.9200  20.27  21.96\n",
      "1 days   2010-06-30  25.79  30.4192  23.30  23.83\n",
      "0 days   2010-06-29  19.00  25.0000  17.54  23.89\n"
     ]
    }
   ],
   "source": [
    "print(tesla['5 days':].iloc[:5, :5])"
   ]
  },
  {
   "cell_type": "markdown",
   "metadata": {},
   "source": [
    "# 직접 해보세요!\n",
    "## 시간 범위 생성하여 인덱스로 지정하기(258쪽)"
   ]
  },
  {
   "cell_type": "code",
   "execution_count": 161,
   "metadata": {},
   "outputs": [
    {
     "name": "stdout",
     "output_type": "stream",
     "text": [
      "        Date  Day  Cases_Guinea  Cases_Liberia  Cases_SierraLeone\n",
      "0 2015-01-05  289        2776.0            NaN            10030.0\n",
      "1 2015-01-04  288        2775.0            NaN             9780.0\n",
      "2 2015-01-03  287        2769.0         8166.0             9722.0\n",
      "3 2015-01-02  286           NaN         8157.0                NaN\n",
      "4 2014-12-31  284        2730.0         8115.0             9633.0\n"
     ]
    }
   ],
   "source": [
    "ebola = pd.read_csv('../data/country_timeseries.csv', parse_dates=[0]) \n",
    "print(ebola.iloc[:5, :5])"
   ]
  },
  {
   "cell_type": "code",
   "execution_count": 162,
   "metadata": {},
   "outputs": [
    {
     "name": "stdout",
     "output_type": "stream",
     "text": [
      "          Date  Day  Cases_Guinea  Cases_Liberia  Cases_SierraLeone\n",
      "117 2014-03-27    5         103.0            8.0                6.0\n",
      "118 2014-03-26    4          86.0            NaN                NaN\n",
      "119 2014-03-25    3          86.0            NaN                NaN\n",
      "120 2014-03-24    2          86.0            NaN                NaN\n",
      "121 2014-03-22    0          49.0            NaN                NaN\n"
     ]
    }
   ],
   "source": [
    "print(ebola.iloc[-5:, :5])"
   ]
  },
  {
   "cell_type": "code",
   "execution_count": 163,
   "metadata": {},
   "outputs": [
    {
     "name": "stdout",
     "output_type": "stream",
     "text": [
      "DatetimeIndex(['2014-12-31', '2015-01-01', '2015-01-02', '2015-01-03',\n",
      "               '2015-01-04', '2015-01-05'],\n",
      "              dtype='datetime64[ns]', freq='D')\n"
     ]
    }
   ],
   "source": [
    "head_range = pd.date_range(start='2014-12-31', end='2015-01-05') \n",
    "print(head_range)"
   ]
  },
  {
   "cell_type": "code",
   "execution_count": 164,
   "metadata": {},
   "outputs": [
    {
     "name": "stdout",
     "output_type": "stream",
     "text": [
      "                 Date  Day  Cases_Guinea  Cases_Liberia  Cases_SierraLeone\n",
      "Date                                                                      \n",
      "2015-01-05 2015-01-05  289        2776.0            NaN            10030.0\n",
      "2015-01-04 2015-01-04  288        2775.0            NaN             9780.0\n",
      "2015-01-03 2015-01-03  287        2769.0         8166.0             9722.0\n",
      "2015-01-02 2015-01-02  286           NaN         8157.0                NaN\n",
      "2014-12-31 2014-12-31  284        2730.0         8115.0             9633.0\n"
     ]
    }
   ],
   "source": [
    "ebola_5 = ebola.head()\n",
    "ebola_5.index = ebola_5['Date']\n",
    "ebola_5.reindex(head_range)\n",
    "\n",
    "print(ebola_5.iloc[:5, :5])"
   ]
  },
  {
   "cell_type": "markdown",
   "metadata": {},
   "source": [
    "# 알아두면 좋아요!\n",
    "## 시간 범위의 주기 설정하기(260쪽)"
   ]
  },
  {
   "cell_type": "code",
   "execution_count": 165,
   "metadata": {},
   "outputs": [
    {
     "name": "stdout",
     "output_type": "stream",
     "text": [
      "DatetimeIndex(['2017-01-02', '2017-01-03', '2017-01-04', '2017-01-05',\n",
      "               '2017-01-06'],\n",
      "              dtype='datetime64[ns]', freq='B')\n"
     ]
    }
   ],
   "source": [
    "print(pd.date_range('2017-01-01', '2017-01-07', freq='B'))"
   ]
  },
  {
   "cell_type": "markdown",
   "metadata": {},
   "source": [
    "# 직접 해보세요!\n",
    "## 에볼라의 확산 속도 비교하기(261쪽)"
   ]
  },
  {
   "cell_type": "code",
   "execution_count": 166,
   "metadata": {},
   "outputs": [
    {
     "data": {
      "image/png": "[encoded data removed]",
      "text/plain": [
       "<Figure size 432x288 with 1 Axes>"
      ]
     },
     "metadata": {},
     "output_type": "display_data"
    }
   ],
   "source": [
    "import matplotlib.pyplot as plt\n",
    "\n",
    "ebola.index = ebola['Date']\n",
    "\n",
    "fig, ax = plt.subplots() \n",
    "ax = ebola.iloc[0:, 1:].plot(ax=ax)\n",
    "ax.legend(fontsize=7, loc=2, borderaxespad=0.) \n",
    "plt.show()"
   ]
  },
  {
   "cell_type": "code",
   "execution_count": 167,
   "metadata": {},
   "outputs": [
    {
     "name": "stdout",
     "output_type": "stream",
     "text": [
      "            Day  Cases_Guinea  Cases_Liberia\n",
      "Date                                        \n",
      "2014-04-04   13         143.0           18.0\n",
      "2014-04-01   10         127.0            8.0\n",
      "2014-03-31    9         122.0            8.0\n",
      "2014-03-29    7         112.0            7.0\n",
      "2014-03-28    6         112.0            3.0\n",
      "2014-03-27    5         103.0            8.0\n",
      "2014-03-26    4          86.0            NaN\n",
      "2014-03-25    3          86.0            NaN\n",
      "2014-03-24    2          86.0            NaN\n",
      "2014-03-22    0          49.0            NaN\n"
     ]
    }
   ],
   "source": [
    "ebola_sub = ebola[['Day', 'Cases_Guinea', 'Cases_Liberia']] \n",
    "print(ebola_sub.tail(10))"
   ]
  },
  {
   "cell_type": "markdown",
   "metadata": {},
   "source": [
    "### 3. 그래프를 그리기 위한 데이터프레임 준비하기"
   ]
  },
  {
   "cell_type": "code",
   "execution_count": 168,
   "metadata": {},
   "outputs": [
    {
     "name": "stdout",
     "output_type": "stream",
     "text": [
      "        Date  Day  Cases_Guinea  Cases_Liberia  Cases_SierraLeone\n",
      "0 2015-01-05  289        2776.0            NaN            10030.0\n",
      "1 2015-01-04  288        2775.0            NaN             9780.0\n",
      "2 2015-01-03  287        2769.0         8166.0             9722.0\n",
      "3 2015-01-02  286           NaN         8157.0                NaN\n",
      "4 2014-12-31  284        2730.0         8115.0             9633.0\n"
     ]
    }
   ],
   "source": [
    "ebola = pd.read_csv('../data/country_timeseries.csv',  parse_dates=['Date'])\n",
    "\n",
    "print(ebola.head().iloc[:, :5])"
   ]
  },
  {
   "cell_type": "code",
   "execution_count": 169,
   "metadata": {},
   "outputs": [],
   "source": [
    "ebola.index = ebola['Date']\n",
    "\n",
    "new_idx = pd.date_range(ebola.index.min(), ebola.index.max())"
   ]
  },
  {
   "cell_type": "code",
   "execution_count": 170,
   "metadata": {},
   "outputs": [
    {
     "name": "stdout",
     "output_type": "stream",
     "text": [
      "DatetimeIndex(['2014-03-22', '2014-03-23', '2014-03-24', '2014-03-25',\n",
      "               '2014-03-26', '2014-03-27', '2014-03-28', '2014-03-29',\n",
      "               '2014-03-30', '2014-03-31',\n",
      "               ...\n",
      "               '2014-12-27', '2014-12-28', '2014-12-29', '2014-12-30',\n",
      "               '2014-12-31', '2015-01-01', '2015-01-02', '2015-01-03',\n",
      "               '2015-01-04', '2015-01-05'],\n",
      "              dtype='datetime64[ns]', length=290, freq='D')\n"
     ]
    }
   ],
   "source": [
    "print(new_idx)"
   ]
  },
  {
   "cell_type": "code",
   "execution_count": 171,
   "metadata": {},
   "outputs": [],
   "source": [
    "new_idx = reversed(new_idx)"
   ]
  },
  {
   "cell_type": "code",
   "execution_count": 172,
   "metadata": {},
   "outputs": [],
   "source": [
    "ebola = ebola.reindex(new_idx)"
   ]
  },
  {
   "cell_type": "code",
   "execution_count": 173,
   "metadata": {},
   "outputs": [
    {
     "name": "stdout",
     "output_type": "stream",
     "text": [
      "                 Date    Day  Cases_Guinea  Cases_Liberia  Cases_SierraLeone\n",
      "Date                                                                        \n",
      "2015-01-05 2015-01-05  289.0        2776.0            NaN            10030.0\n",
      "2015-01-04 2015-01-04  288.0        2775.0            NaN             9780.0\n",
      "2015-01-03 2015-01-03  287.0        2769.0         8166.0             9722.0\n",
      "2015-01-02 2015-01-02  286.0           NaN         8157.0                NaN\n",
      "2015-01-01        NaT    NaN           NaN            NaN                NaN\n"
     ]
    }
   ],
   "source": [
    "print(ebola.head().iloc[:, :5])"
   ]
  },
  {
   "cell_type": "code",
   "execution_count": 174,
   "metadata": {
    "scrolled": true
   },
   "outputs": [
    {
     "name": "stdout",
     "output_type": "stream",
     "text": [
      "                 Date  Day  Cases_Guinea  Cases_Liberia  Cases_SierraLeone\n",
      "Date                                                                      \n",
      "2014-03-26 2014-03-26  4.0          86.0            NaN                NaN\n",
      "2014-03-25 2014-03-25  3.0          86.0            NaN                NaN\n",
      "2014-03-24 2014-03-24  2.0          86.0            NaN                NaN\n",
      "2014-03-23        NaT  NaN           NaN            NaN                NaN\n",
      "2014-03-22 2014-03-22  0.0          49.0            NaN                NaN\n"
     ]
    }
   ],
   "source": [
    "print(ebola.tail().iloc[:, :5])"
   ]
  },
  {
   "cell_type": "markdown",
   "metadata": {},
   "source": [
    "### 7. 각 나라의 에볼라 발병일 옮기기"
   ]
  },
  {
   "cell_type": "code",
   "execution_count": 175,
   "metadata": {
    "scrolled": true
   },
   "outputs": [
    {
     "name": "stdout",
     "output_type": "stream",
     "text": [
      "Date                  2014-03-22\n",
      "Day                   2014-03-22\n",
      "Cases_Guinea          2014-03-22\n",
      "Cases_Liberia         2014-03-27\n",
      "Cases_SierraLeone     2014-03-27\n",
      "Cases_Nigeria         2014-07-23\n",
      "Cases_Senegal         2014-08-31\n",
      "Cases_UnitedStates    2014-10-01\n",
      "Cases_Spain           2014-10-08\n",
      "Cases_Mali            2014-10-22\n",
      "Deaths_Guinea         2014-03-22\n",
      "Deaths_Liberia        2014-03-27\n",
      "Deaths_SierraLeone    2014-03-27\n",
      "Deaths_Nigeria        2014-07-23\n",
      "Deaths_Senegal        2014-09-07\n",
      "Deaths_UnitedStates   2014-10-01\n",
      "Deaths_Spain          2014-10-08\n",
      "Deaths_Mali           2014-10-22\n",
      "dtype: datetime64[ns]\n"
     ]
    }
   ],
   "source": [
    "last_valid = ebola.apply(pd.Series.last_valid_index) \n",
    "print(last_valid)"
   ]
  },
  {
   "cell_type": "code",
   "execution_count": 176,
   "metadata": {},
   "outputs": [
    {
     "name": "stdout",
     "output_type": "stream",
     "text": [
      "Date                  2015-01-05\n",
      "Day                   2015-01-05\n",
      "Cases_Guinea          2015-01-05\n",
      "Cases_Liberia         2015-01-03\n",
      "Cases_SierraLeone     2015-01-05\n",
      "Cases_Nigeria         2014-12-07\n",
      "Cases_Senegal         2014-12-07\n",
      "Cases_UnitedStates    2014-12-07\n",
      "Cases_Spain           2014-12-07\n",
      "Cases_Mali            2014-12-07\n",
      "Deaths_Guinea         2015-01-05\n",
      "Deaths_Liberia        2015-01-03\n",
      "Deaths_SierraLeone    2015-01-05\n",
      "Deaths_Nigeria        2014-12-07\n",
      "Deaths_Senegal        2014-12-07\n",
      "Deaths_UnitedStates   2014-12-07\n",
      "Deaths_Spain          2014-12-07\n",
      "Deaths_Mali           2014-12-07\n",
      "dtype: datetime64[ns]\n"
     ]
    }
   ],
   "source": [
    "first_valid = ebola.apply(pd.Series.first_valid_index) \n",
    "print(first_valid)"
   ]
  },
  {
   "cell_type": "code",
   "execution_count": 177,
   "metadata": {},
   "outputs": [
    {
     "name": "stdout",
     "output_type": "stream",
     "text": [
      "2014-03-22 00:00:00\n"
     ]
    }
   ],
   "source": [
    "earliest_date = ebola.index.min() \n",
    "print(earliest_date)"
   ]
  },
  {
   "cell_type": "code",
   "execution_count": 178,
   "metadata": {},
   "outputs": [
    {
     "name": "stdout",
     "output_type": "stream",
     "text": [
      "Date                    0 days\n",
      "Day                     0 days\n",
      "Cases_Guinea            0 days\n",
      "Cases_Liberia           5 days\n",
      "Cases_SierraLeone       5 days\n",
      "Cases_Nigeria         123 days\n",
      "Cases_Senegal         162 days\n",
      "Cases_UnitedStates    193 days\n",
      "Cases_Spain           200 days\n",
      "Cases_Mali            214 days\n",
      "Deaths_Guinea           0 days\n",
      "Deaths_Liberia          5 days\n",
      "Deaths_SierraLeone      5 days\n",
      "Deaths_Nigeria        123 days\n",
      "Deaths_Senegal        169 days\n",
      "Deaths_UnitedStates   193 days\n",
      "Deaths_Spain          200 days\n",
      "Deaths_Mali           214 days\n",
      "dtype: timedelta64[ns]\n"
     ]
    }
   ],
   "source": [
    "shift_values = last_valid - earliest_date \n",
    "print(shift_values)"
   ]
  },
  {
   "cell_type": "code",
   "execution_count": 181,
   "metadata": {},
   "outputs": [],
   "source": [
    "ebola_dict = {} \n",
    "for idx, col in enumerate(ebola):\n",
    "    d = shift_values[idx].days \n",
    "    shifted = ebola[col].shift(d) \n",
    "    ebola_dict[col] = shifted"
   ]
  },
  {
   "cell_type": "code",
   "execution_count": 180,
   "metadata": {},
   "outputs": [],
   "source": [
    "ebola_shift = pd.DataFrame(ebola_dict)"
   ]
  },
  {
   "cell_type": "code",
   "execution_count": 90,
   "metadata": {},
   "outputs": [
    {
     "name": "stdout",
     "output_type": "stream",
     "text": [
      "                 Date  Day  Cases_Guinea  Cases_Liberia  Cases_SierraLeone  \\\n",
      "Date                                                                         \n",
      "2014-03-26 2014-03-26  4.0          86.0            8.0                2.0   \n",
      "2014-03-25 2014-03-25  3.0          86.0            NaN                NaN   \n",
      "2014-03-24 2014-03-24  2.0          86.0            7.0                NaN   \n",
      "2014-03-23        NaT  NaN           NaN            3.0                2.0   \n",
      "2014-03-22 2014-03-22  0.0          49.0            8.0                6.0   \n",
      "\n",
      "            Cases_Nigeria  Cases_Senegal  Cases_UnitedStates  Cases_Spain  \\\n",
      "Date                                                                        \n",
      "2014-03-26            1.0            NaN                 1.0          1.0   \n",
      "2014-03-25            NaN            NaN                 NaN          NaN   \n",
      "2014-03-24            NaN            NaN                 NaN          NaN   \n",
      "2014-03-23            NaN            NaN                 NaN          NaN   \n",
      "2014-03-22            0.0            1.0                 1.0          1.0   \n",
      "\n",
      "            Cases_Mali  Deaths_Guinea  Deaths_Liberia  Deaths_SierraLeone  \\\n",
      "Date                                                                        \n",
      "2014-03-26         NaN           62.0             4.0                 2.0   \n",
      "2014-03-25         NaN           60.0             NaN                 NaN   \n",
      "2014-03-24         NaN           59.0             2.0                 NaN   \n",
      "2014-03-23         NaN            NaN             3.0                 2.0   \n",
      "2014-03-22         1.0           29.0             6.0                 5.0   \n",
      "\n",
      "            Deaths_Nigeria  Deaths_Senegal  Deaths_UnitedStates  Deaths_Spain  \\\n",
      "Date                                                                            \n",
      "2014-03-26             1.0             NaN                  0.0           1.0   \n",
      "2014-03-25             NaN             NaN                  NaN           NaN   \n",
      "2014-03-24             NaN             NaN                  NaN           NaN   \n",
      "2014-03-23             NaN             NaN                  NaN           NaN   \n",
      "2014-03-22             0.0             0.0                  0.0           1.0   \n",
      "\n",
      "            Deaths_Mali  \n",
      "Date                     \n",
      "2014-03-26          NaN  \n",
      "2014-03-25          NaN  \n",
      "2014-03-24          NaN  \n",
      "2014-03-23          NaN  \n",
      "2014-03-22          1.0  \n"
     ]
    }
   ],
   "source": [
    "print(ebola_shift.tail())"
   ]
  },
  {
   "cell_type": "code",
   "execution_count": 182,
   "metadata": {},
   "outputs": [
    {
     "name": "stdout",
     "output_type": "stream",
     "text": [
      "      Cases_Guinea  Cases_Liberia  Cases_SierraLeone  Cases_Nigeria  \\\n",
      "Day                                                                   \n",
      " 4.0          86.0            8.0                2.0            1.0   \n",
      " 3.0          86.0            NaN                NaN            NaN   \n",
      " 2.0          86.0            7.0                NaN            NaN   \n",
      "NaN            NaN            3.0                2.0            NaN   \n",
      " 0.0          49.0            8.0                6.0            0.0   \n",
      "\n",
      "      Cases_Senegal  Cases_UnitedStates  Cases_Spain  Cases_Mali  \\\n",
      "Day                                                                \n",
      " 4.0            NaN                 1.0          1.0         NaN   \n",
      " 3.0            NaN                 NaN          NaN         NaN   \n",
      " 2.0            NaN                 NaN          NaN         NaN   \n",
      "NaN             NaN                 NaN          NaN         NaN   \n",
      " 0.0            1.0                 1.0          1.0         1.0   \n",
      "\n",
      "      Deaths_Guinea  Deaths_Liberia  Deaths_SierraLeone  Deaths_Nigeria  \\\n",
      "Day                                                                       \n",
      " 4.0           62.0             4.0                 2.0             1.0   \n",
      " 3.0           60.0             NaN                 NaN             NaN   \n",
      " 2.0           59.0             2.0                 NaN             NaN   \n",
      "NaN             NaN             3.0                 2.0             NaN   \n",
      " 0.0           29.0             6.0                 5.0             0.0   \n",
      "\n",
      "      Deaths_Senegal  Deaths_UnitedStates  Deaths_Spain  Deaths_Mali  \n",
      "Day                                                                   \n",
      " 4.0             NaN                  0.0           1.0          NaN  \n",
      " 3.0             NaN                  NaN           NaN          NaN  \n",
      " 2.0             NaN                  NaN           NaN          NaN  \n",
      "NaN              NaN                  NaN           NaN          NaN  \n",
      " 0.0             0.0                  0.0           1.0          1.0  \n"
     ]
    }
   ],
   "source": [
    "ebola_shift.index = ebola_shift['Day'] \n",
    "ebola_shift = ebola_shift.drop(['Date', 'Day'], axis=1)\n",
    "\n",
    "print(ebola_shift.tail())"
   ]
  },
  {
   "cell_type": "code",
   "execution_count": 183,
   "metadata": {},
   "outputs": [
    {
     "data": {
      "image/png": "[encoded data removed]",
      "text/plain": [
       "<Figure size 432x288 with 1 Axes>"
      ]
     },
     "metadata": {},
     "output_type": "display_data"
    }
   ],
   "source": [
    "fig, ax = plt.subplots() \n",
    "ax = ebola_shift.iloc[:, :].plot(ax=ax)\n",
    "ax.legend(fontsize=7, loc=2, borderaxespad=0.) \n",
    "plt.show()"
   ]
  }
 ],
 "metadata": {
  "kernelspec": {
   "display_name": "Python 3",
   "language": "python",
   "name": "python3"
  },
  "language_info": {
   "codemirror_mode": {
    "name": "ipython",
    "version": 3
   },
   "file_extension": ".py",
   "mimetype": "text/x-python",
   "name": "python",
   "nbconvert_exporter": "python",
   "pygments_lexer": "ipython3",
   "version": "3.6.5"
  }
 },
 "nbformat": 4,
 "nbformat_minor": 1
}
