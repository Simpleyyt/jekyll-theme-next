{
 "cells": [
  {
   "cell_type": "markdown",
   "metadata": {},
   "source": [
    "# # 모두의 파이썬 데이터분석 - 3\n",
    "자료 출처: https://pay.tmoney.co.kr/index.dev - 이용안내 - 이용안내 - 대중교통 통계자료"
   ]
  },
  {
   "cell_type": "markdown",
   "metadata": {},
   "source": [
    "## 4. 대중교통 공공데이터\n",
    "### 1) 대중교통 데이터 시각화하기\n",
    "#### (1) 데이터 정제하기"
   ]
  },
  {
   "cell_type": "code",
   "execution_count": 6,
   "metadata": {},
   "outputs": [
    {
     "name": "stdout",
     "output_type": "stream",
     "text": [
      "['사용월', '호선명', '역ID', '지하철역', '유임승차', '유임하차', '무임승차', '무임하차']\n",
      "['2019-01', '1호선', '0150', '서울역', '1516452', '1400464', '221180', '211764']\n",
      "['2019-01', '1호선', '0151', '시청', '676932', '676266', '102388', '101033']\n",
      "['2019-01', '1호선', '0152', '종각', '1240810', '1177643', '162410', '152062']\n",
      "['2019-01', '1호선', '0153', '종로3가', '703110', '674148', '387062', '362735']\n"
     ]
    }
   ],
   "source": [
    "import csv\n",
    "\n",
    "f = open('subwayfee.csv')\n",
    "data = csv.reader(f)\n",
    "next(data)\n",
    "count = 0\n",
    "\n",
    "for row in data:\n",
    "    print(row)\n",
    "    count += 1\n",
    "    if count == 5:\n",
    "        break"
   ]
  },
  {
   "cell_type": "code",
   "execution_count": 7,
   "metadata": {},
   "outputs": [
    {
     "name": "stdout",
     "output_type": "stream",
     "text": [
      "['2019-01', '1호선', '0150', '서울역', 1516452, 1400464, 221180, 211764]\n",
      "['2019-01', '1호선', '0151', '시청', 676932, 676266, 102388, 101033]\n",
      "['2019-01', '1호선', '0152', '종각', 1240810, 1177643, 162410, 152062]\n",
      "['2019-01', '1호선', '0153', '종로3가', 703110, 674148, 387062, 362735]\n",
      "['2019-01', '1호선', '0154', '종로5가', 571824, 583955, 275447, 263687]\n"
     ]
    }
   ],
   "source": [
    "import csv\n",
    "\n",
    "f = open('subwayfee.csv')\n",
    "data = csv.reader(f)\n",
    "next(data)\n",
    "count = 0\n",
    "\n",
    "for row in data:\n",
    "    for i in range(4, 8):\n",
    "        row[i] = int(row[i]) # 필요한 데이터를 정수로 변환\n",
    "    print(row)\n",
    "    count += 1\n",
    "    if count == 5:\n",
    "        break"
   ]
  },
  {
   "cell_type": "markdown",
   "metadata": {},
   "source": [
    "#### (2) 유임 승차 비율이 가장 높은 역은 어디일까?"
   ]
  },
  {
   "cell_type": "code",
   "execution_count": 9,
   "metadata": {},
   "outputs": [
    {
     "ename": "ZeroDivisionError",
     "evalue": "division by zero",
     "output_type": "error",
     "traceback": [
      "\u001b[1;31m---------------------------------------------------------------------------\u001b[0m",
      "\u001b[1;31mZeroDivisionError\u001b[0m                         Traceback (most recent call last)",
      "\u001b[1;32m<ipython-input-9-5282e803b25c>\u001b[0m in \u001b[0;36m<module>\u001b[1;34m\u001b[0m\n\u001b[0;32m     13\u001b[0m     \u001b[1;32mfor\u001b[0m \u001b[0mi\u001b[0m \u001b[1;32min\u001b[0m \u001b[0mrange\u001b[0m\u001b[1;33m(\u001b[0m\u001b[1;36m4\u001b[0m\u001b[1;33m,\u001b[0m \u001b[1;36m8\u001b[0m\u001b[1;33m)\u001b[0m\u001b[1;33m:\u001b[0m\u001b[1;33m\u001b[0m\u001b[1;33m\u001b[0m\u001b[0m\n\u001b[0;32m     14\u001b[0m         \u001b[0mrow\u001b[0m\u001b[1;33m[\u001b[0m\u001b[0mi\u001b[0m\u001b[1;33m]\u001b[0m \u001b[1;33m=\u001b[0m \u001b[0mint\u001b[0m\u001b[1;33m(\u001b[0m\u001b[0mrow\u001b[0m\u001b[1;33m[\u001b[0m\u001b[0mi\u001b[0m\u001b[1;33m]\u001b[0m\u001b[1;33m)\u001b[0m \u001b[1;31m# 필요한 데이터를 정수로 변환\u001b[0m\u001b[1;33m\u001b[0m\u001b[1;33m\u001b[0m\u001b[0m\n\u001b[1;32m---> 15\u001b[1;33m     \u001b[0mrate\u001b[0m \u001b[1;33m=\u001b[0m \u001b[0mrow\u001b[0m\u001b[1;33m[\u001b[0m\u001b[1;36m4\u001b[0m\u001b[1;33m]\u001b[0m \u001b[1;33m/\u001b[0m \u001b[0mrow\u001b[0m\u001b[1;33m[\u001b[0m\u001b[1;36m6\u001b[0m\u001b[1;33m]\u001b[0m\u001b[1;33m\u001b[0m\u001b[1;33m\u001b[0m\u001b[0m\n\u001b[0m\u001b[0;32m     16\u001b[0m     \u001b[1;32mif\u001b[0m \u001b[0mrate\u001b[0m \u001b[1;33m>\u001b[0m \u001b[0mmx\u001b[0m \u001b[1;33m:\u001b[0m\u001b[1;33m\u001b[0m\u001b[1;33m\u001b[0m\u001b[0m\n\u001b[0;32m     17\u001b[0m         \u001b[0mmx\u001b[0m \u001b[1;33m=\u001b[0m \u001b[0mrate\u001b[0m\u001b[1;33m\u001b[0m\u001b[1;33m\u001b[0m\u001b[0m\n",
      "\u001b[1;31mZeroDivisionError\u001b[0m: division by zero"
     ]
    }
   ],
   "source": [
    "# rate = 유임승차인원 / 무임승차인원\n",
    "\n",
    "import csv\n",
    "\n",
    "f = open('subwayfee.csv')\n",
    "data = csv.reader(f)\n",
    "next(data)\n",
    "count = 0\n",
    "mx = 0\n",
    "rate = 0\n",
    "\n",
    "for row in data:\n",
    "    for i in range(4, 8):\n",
    "        row[i] = int(row[i]) # 필요한 데이터를 정수로 변환\n",
    "    rate = row[4] / row[6]\n",
    "    if rate > mx : \n",
    "        mx = rate\n",
    "\n",
    "print(mx)"
   ]
  },
  {
   "cell_type": "markdown",
   "metadata": {},
   "source": [
    "위 코드는 ZeroDivisionError: division by zero 에러가 발생한다. 이유는 row[6]값이 0인 역들이 있기 때문. 간단히 예외 처리를 하고 진행한다."
   ]
  },
  {
   "cell_type": "code",
   "execution_count": 14,
   "metadata": {},
   "outputs": [
    {
     "name": "stdout",
     "output_type": "stream",
     "text": [
      "['2019-01', '1호선', '0150', '서울역', 1516452, 1400464, 221180, 211764] 6.86\n",
      "['2019-01', '1호선', '0152', '종각', 1240810, 1177643, 162410, 152062] 7.64\n",
      "['2019-01', '2호선', '0201', '시청', 706097, 679503, 61058, 55387] 11.56\n",
      "['2019-01', '2호선', '0202', '을지로입구', 1415414, 1414980, 120425, 111592] 11.75\n",
      "['2019-01', '2호선', '0209', '한양대', 233785, 256079, 15380, 16652] 15.2\n",
      "['2019-01', '2호선', '0222', '강남', 3153418, 3210437, 186486, 167666] 16.91\n",
      "['2019-01', '2호선', '0239', '홍대입구', 2351935, 2507561, 114832, 111488] 20.48\n",
      "['2019-01', '3호선', '0321', '충무로', 55, 0, 2, 0] 27.5\n"
     ]
    }
   ],
   "source": [
    "# rate = 유임승차인원 / 무임승차인원\n",
    "\n",
    "import csv\n",
    "\n",
    "f = open('subwayfee.csv')\n",
    "data = csv.reader(f)\n",
    "next(data)\n",
    "count = 0\n",
    "mx = 0\n",
    "rate = 0\n",
    "\n",
    "for row in data:\n",
    "    for i in range(4, 8):\n",
    "        row[i] = int(row[i]) # 필요한 데이터를 정수로 변환\n",
    "    if row[6] != 0 :\n",
    "        rate = row[4]/row[6]\n",
    "    if rate > mx : \n",
    "        mx = rate\n",
    "        print(row, round(rate, 2))"
   ]
  },
  {
   "cell_type": "markdown",
   "metadata": {},
   "source": [
    "위 결과를 보면 충무로 값이 이상하다. 3호선과 4호선이 환승 가능한 역으로 두 가지 데이터를 다 처리해 주어야 하기 때문.<br>\n",
    "    ['2019-01', '3호선', '0321', '충무로', 55, 0, 2, 0]<br><br>\n",
    "10만명 이상인 역만 출력하는 것으로 하고 비율 계산 방식을 바꾼다.<br>\n",
    "rate = 유임 승차 인원 / 전체(유임+무임)인원"
   ]
  },
  {
   "cell_type": "code",
   "execution_count": 15,
   "metadata": {},
   "outputs": [
    {
     "name": "stdout",
     "output_type": "stream",
     "text": [
      "['2019-01', '1호선', '0150', '서울역', 1516452, 1400464, 221180, 211764] 0.87\n",
      "['2019-01', '1호선', '0152', '종각', 1240810, 1177643, 162410, 152062] 0.88\n",
      "['2019-01', '2호선', '0201', '시청', 706097, 679503, 61058, 55387] 0.92\n",
      "['2019-01', '2호선', '0202', '을지로입구', 1415414, 1414980, 120425, 111592] 0.92\n",
      "['2019-01', '2호선', '0209', '한양대', 233785, 256079, 15380, 16652] 0.94\n",
      "['2019-01', '2호선', '0222', '강남', 3153418, 3210437, 186486, 167666] 0.94\n",
      "['2019-01', '2호선', '0239', '홍대입구', 2351935, 2507561, 114832, 111488] 0.95\n"
     ]
    }
   ],
   "source": [
    "# rate = 유임승차인원 / 무임승차인원\n",
    "\n",
    "import csv\n",
    "\n",
    "f = open('subwayfee.csv')\n",
    "data = csv.reader(f)\n",
    "next(data)\n",
    "mx = 0\n",
    "rate = 0\n",
    "\n",
    "for row in data:\n",
    "    for i in range(4, 8):\n",
    "        row[i] = int(row[i]) # 필요한 데이터를 정수로 변환\n",
    "    if row[6] != 0 and (row[4]+row[6]) > 100000 :\n",
    "        rate = row[4]/(row[4]+row[6])\n",
    "    if rate > mx : \n",
    "        mx = rate\n",
    "        print(row, round(rate, 2))"
   ]
  },
  {
   "cell_type": "markdown",
   "metadata": {},
   "source": [
    "해당 코드만 보면 유임승차 비율이 높은 것은 홍대입구 밖에 없는 것으로 보이지만 특정 값을 주어 비율이 높은 역을 본다."
   ]
  },
  {
   "cell_type": "code",
   "execution_count": 16,
   "metadata": {},
   "outputs": [
    {
     "name": "stdout",
     "output_type": "stream",
     "text": [
      "['2019-01', '2호선', '0222', '강남', 3153418, 3210437, 186486, 167666] 0.94\n",
      "['2019-01', '2호선', '0239', '홍대입구', 2351935, 2507561, 114832, 111488] 0.95\n",
      "['2019-01', '경부선', '1001', '서울역', 178223, 29980, 10325, 1612] 0.95\n",
      "['2019-01', '9호선', '4125', '신논현', 965930, 995451, 57013, 54557] 0.94\n",
      "['2019-01', '공항철도 1호선', '4203', '홍대입구', 336328, 335507, 17545, 17112] 0.95\n",
      "['2019-01', '공항철도 1호선', '4206', '마곡나루', 133488, 119389, 8060, 8192] 0.94\n",
      "['2019-01', '공항철도 1호선', '4207', '김포공항', 300654, 196229, 18640, 14332] 0.94\n",
      "['2019-01', '공항철도 1호선', '4210', '청라국제도시', 174320, 164483, 9921, 9676] 0.95\n"
     ]
    }
   ],
   "source": [
    "import csv\n",
    "\n",
    "f = open('subwayfee.csv')\n",
    "data = csv.reader(f)\n",
    "next(data)\n",
    "mx = 0\n",
    "rate = 0\n",
    "\n",
    "for row in data:\n",
    "    for i in range(4, 8):\n",
    "        row[i] = int(row[i]) # 필요한 데이터를 정수로 변환\n",
    "    if row[6] != 0 and (row[4]+row[6]) > 100000 :\n",
    "        rate = row[4]/(row[4]+row[6])\n",
    "    if rate > 0.94 : \n",
    "        mx = rate\n",
    "        print(row, round(rate, 2))"
   ]
  },
  {
   "cell_type": "markdown",
   "metadata": {},
   "source": [
    "이제 보기 쉽게 데이터를 정제하여 출력해본다. 2019년 1월을 기준으로 가장 유임승차 비율이 높은 역은 홍대입구 역이 나온다."
   ]
  },
  {
   "cell_type": "code",
   "execution_count": 18,
   "metadata": {},
   "outputs": [
    {
     "name": "stdout",
     "output_type": "stream",
     "text": [
      "홍대입구 2호선 95.34\n"
     ]
    }
   ],
   "source": [
    "import csv\n",
    "\n",
    "f = open('subwayfee.csv')\n",
    "data = csv.reader(f)\n",
    "next(data)\n",
    "mx = 0\n",
    "rate = 0\n",
    "mx_station = ''\n",
    "\n",
    "for row in data:\n",
    "    for i in range(4, 8):\n",
    "        row[i] = int(row[i]) # 필요한 데이터를 정수로 변환\n",
    "    if row[6] != 0 and (row[4]+row[6]) > 100000 :\n",
    "        rate = row[4]/(row[4]+row[6])\n",
    "    if rate > mx : \n",
    "        mx = rate\n",
    "        mx_station = row[3] + ' ' + row[1]\n",
    "\n",
    "print(mx_station, round(mx*100, 2))"
   ]
  },
  {
   "cell_type": "markdown",
   "metadata": {},
   "source": [
    "#### (3) 유무임 승하차 인원이 가장 많은 역은 어디일까"
   ]
  },
  {
   "cell_type": "code",
   "execution_count": 20,
   "metadata": {},
   "outputs": [
    {
     "name": "stdout",
     "output_type": "stream",
     "text": [
      "유임승차: 강남 2호선 3153418\n",
      "유임하차: 강남 2호선 3210437\n",
      "무임승차: 종로3가 1호선 387062\n",
      "무임하차: 제기동 1호선 400607\n"
     ]
    }
   ],
   "source": [
    "import csv\n",
    "\n",
    "f = open('subwayfee.csv')\n",
    "data = csv.reader(f)\n",
    "next(data)\n",
    "mx = [0]*4\n",
    "rate = 0\n",
    "mx_station = ['']*4\n",
    "label = ['유임승차', '유임하차', '무임승차', '무임하차']\n",
    "\n",
    "for row in data:\n",
    "    for i in range(4, 8):\n",
    "        row[i] = int(row[i]) # 필요한 데이터를 정수로 변환\n",
    "        if row[i] > mx[i-4]:\n",
    "            mx[i-4] = row[i]\n",
    "            mx_station[i-4] = row[3] + ' ' + row[1]\n",
    "\n",
    "for i in range(4):\n",
    "    print(label[i]+': ' + mx_station[i], mx[i])\n",
    "\n",
    "# 유임 승차, 유임 하차, 무임 승차, 무임 하차 4가지의 데이터를 모두 알아본다. "
   ]
  },
  {
   "cell_type": "markdown",
   "metadata": {},
   "source": [
    "#### (4) 모든 역의 유무임 승하차 비율"
   ]
  },
  {
   "cell_type": "code",
   "execution_count": 2,
   "metadata": {},
   "outputs": [
    {
     "data": {
      "image/png": "[encoded data removed]",
      "text/plain": [
       "<Figure size 432x288 with 1 Axes>"
      ]
     },
     "metadata": {},
     "output_type": "display_data"
    }
   ],
   "source": [
    "import csv\n",
    "import matplotlib.pyplot as plt\n",
    "\n",
    "f = open('subwayfee.csv')\n",
    "data = csv.reader(f)\n",
    "next(data)\n",
    "label = ['유임승차', '유임하차', '무임승차', '무임하차']\n",
    "\n",
    "for row in data:\n",
    "    for i in range(4, 8):\n",
    "        row[i] = int(row[i]) # 필요한 데이터를 정수로 변환\n",
    "        \n",
    "# 원래는 for문 안에 넣어서 모든 역에 대한 파이차트를 출력하는 것이나 하나의 차트만 보이기 위해 밖에서 하나만 출력. \n",
    "plt.pie(row[4:8])\n",
    "plt.axis('equal')\n",
    "plt.show()"
   ]
  },
  {
   "cell_type": "code",
   "execution_count": 6,
   "metadata": {},
   "outputs": [
    {
     "data": {
      "image/png": "[encoded data removed]",
      "text/plain": [
       "<Figure size 600x400 with 1 Axes>"
      ]
     },
     "metadata": {},
     "output_type": "display_data"
    },
    {
     "data": {
      "image/png": "[encoded data removed]",
      "text/plain": [
       "<Figure size 600x400 with 1 Axes>"
      ]
     },
     "metadata": {},
     "output_type": "display_data"
    },
    {
     "data": {
      "image/png": "[encoded data removed]",
      "text/plain": [
       "<Figure size 600x400 with 1 Axes>"
      ]
     },
     "metadata": {},
     "output_type": "display_data"
    }
   ],
   "source": [
    "import csv\n",
    "import matplotlib.pyplot as plt\n",
    "\n",
    "f = open('subwayfee.csv')\n",
    "data = csv.reader(f)\n",
    "next(data)\n",
    "label = ['유임승차', '유임하차', '무임승차', '무임하차']\n",
    "c = ['#14CCC0', '#389993', '#FF1C6A', '#CC14AF']\n",
    "count = 0\n",
    "\n",
    "for row in data:\n",
    "    for i in range(4, 8):\n",
    "        row[i] = int(row[i]) # 필요한 데이터를 정수로 변환\n",
    "        \n",
    "    plt.rc('font', family='Malgun Gothic') ##\n",
    "    plt.rcParams['axes.unicode_minus'] = False ##\n",
    "    plt.figure(dpi=100)\n",
    "    plt.title(row[3]+' '+row[1])\n",
    "    plt.pie(row[4:8], labels=label, colors=c, autopct='%1.f%%')\n",
    "    plt.axis('equal')\n",
    "    plt.show()\n",
    "    count+=1\n",
    "    if count == 3:\n",
    "        break        "
   ]
  },
  {
   "cell_type": "markdown",
   "metadata": {},
   "source": [
    "해당 파이 차트를 이미지 파일로 저장한다."
   ]
  },
  {
   "cell_type": "code",
   "execution_count": 5,
   "metadata": {},
   "outputs": [
    {
     "data": {
      "image/png": "[encoded data removed]",
      "text/plain": [
       "<Figure size 600x400 with 1 Axes>"
      ]
     },
     "metadata": {},
     "output_type": "display_data"
    }
   ],
   "source": [
    "import csv\n",
    "import matplotlib.pyplot as plt\n",
    "\n",
    "f = open('subwayfee.csv')\n",
    "data = csv.reader(f)\n",
    "next(data)\n",
    "label = ['유임승차', '유임하차', '무임승차', '무임하차']\n",
    "c = ['#14CCC0', '#389993', '#FF1C6A', '#CC14AF']\n",
    "\n",
    "for row in data:\n",
    "    for i in range(4, 8):\n",
    "        row[i] = int(row[i]) # 필요한 데이터를 정수로 변환\n",
    "        \n",
    "plt.rc('font', family='Malgun Gothic') ##\n",
    "plt.rcParams['axes.unicode_minus'] = False ##\n",
    "plt.figure(dpi=100)\n",
    "plt.title(row[3]+' '+row[1])\n",
    "plt.pie(row[4:8], labels=label, colors=c, autopct='%1.f%%')\n",
    "plt.axis('equal')\n",
    "# plt.savefig(row[3]+' '+row[1]+'.png') << 해당 명령을 실행하면 이미지 파일로 저장된다. \n",
    "plt.show()"
   ]
  },
  {
   "cell_type": "markdown",
   "metadata": {},
   "source": [
    "#### (5) 지하철 시간대별 데이터 시각화하기\n",
    "- 출근 시간대 사람들이 가장 많이 타고 내리는 역은 어디일까?\n",
    "- 지하철 시간대별로 가장 많은 사람이 승하차 하는 역은 어디일까?"
   ]
  },
  {
   "cell_type": "code",
   "execution_count": 10,
   "metadata": {},
   "outputs": [
    {
     "name": "stdout",
     "output_type": "stream",
     "text": [
      "['Jan-19', '1호선', '150', '서울역', '927', '22', '10,682', '8,774', '13,504', '45,545', '39,110', '103,863', '80,492', '236,747', '61,108', '163,026', '68,446', '86,198', '89,100', '80,051', '98,021', '85,869', '101,282', '91,792', '86,627', '86,386', '113,919', '87,211', '118,223', '91,594', '161,216', '98,032', '249,973', '105,075', '142,575', '77,807', '97,729', '55,056', '96,955', '46,680', '70,982', '35,481', '33,149', '19,442', '3,612', '7,167', '0', '410', '0', '0', '0', '0']\n",
      "['Jan-19', '1호선', '151', '시청', '74', '0', '2,409', '4,049', '3,532', '19,241', '7,703', '66,876', '9,978', '209,349', '12,818', '88,793', '16,470', '49,343', '22,512', '45,645', '26,040', '41,405', '34,728', '46,800', '40,497', '40,429', '51,586', '34,787', '54,591', '29,029', '80,258', '28,534', '170,225', '28,331', '76,142', '15,634', '57,394', '9,141', '58,745', '8,204', '38,156', '6,345', '14,478', '4,079', '981', '1,256', '3', '29', '0', '0', '0', '0']\n",
      "['Jan-19', '1호선', '152', '종각', '100', '8', '4,409', '5,105', '4,593', '26,969', '6,733', '104,259', '11,028', '300,081', '14,563', '167,611', '20,165', '80,474', '34,617', '76,633', '42,088', '71,920', '59,893', '75,678', '68,149', '62,408', '84,211', '57,607', '96,197', '55,889', '144,446', '63,459', '257,735', '83,206', '134,259', '51,603', '113,555', '19,039', '135,586', '12,188', '111,743', '8,286', '54,264', '5,560', '4,886', '1,722', '0', '0', '0', '0', '0', '0']\n"
     ]
    }
   ],
   "source": [
    "import csv\n",
    "import matplotlib.pyplot as plt\n",
    "\n",
    "f = open('subwaytime.csv')\n",
    "data = csv.reader(f)\n",
    "next(data)\n",
    "next(data)\n",
    "count = 0\n",
    "\n",
    "for row in data:\n",
    "    print(row)\n",
    "    count +=1 \n",
    "    if count==3:\n",
    "        break"
   ]
  },
  {
   "cell_type": "code",
   "execution_count": 34,
   "metadata": {},
   "outputs": [
    {
     "name": "stdout",
     "output_type": "stream",
     "text": [
      "['Jan-19', '1호선', '150', '서울역', 927, 22, 10682, 8774, 13504, 45545, 39110, 103863, 80492, 236747, 61108, 163026, 68446, 86198, 89100, 80051, 98021, 85869, 101282, 91792, 86627, 86386, 113919, 87211, 118223, 91594, 161216, 98032, 249973, 105075, 142575, 77807, 97729, 55056, 96955, 46680, 70982, 35481, 33149, 19442, 3612, 7167, 0, 410, 0, 0, 0, 0]\n",
      "['Jan-19', '1호선', '151', '시청', 74, 0, 2409, 4049, 3532, 19241, 7703, 66876, 9978, 209349, 12818, 88793, 16470, 49343, 22512, 45645, 26040, 41405, 34728, 46800, 40497, 40429, 51586, 34787, 54591, 29029, 80258, 28534, 170225, 28331, 76142, 15634, 57394, 9141, 58745, 8204, 38156, 6345, 14478, 4079, 981, 1256, 3, 29, 0, 0, 0, 0]\n",
      "['Jan-19', '1호선', '152', '종각', 100, 8, 4409, 5105, 4593, 26969, 6733, 104259, 11028, 300081, 14563, 167611, 20165, 80474, 34617, 76633, 42088, 71920, 59893, 75678, 68149, 62408, 84211, 57607, 96197, 55889, 144446, 63459, 257735, 83206, 134259, 51603, 113555, 19039, 135586, 12188, 111743, 8286, 54264, 5560, 4886, 1722, 0, 0, 0, 0, 0, 0]\n"
     ]
    }
   ],
   "source": [
    "import csv\n",
    "import matplotlib.pyplot as plt\n",
    "\n",
    "f = open('subwaytime.csv')\n",
    "data = csv.reader(f)\n",
    "count = 0\n",
    "next(data)\n",
    "next(data)\n",
    "\n",
    "for row in data:\n",
    "    row[4:] = map(int, row[4:])\n",
    "    print(row)\n",
    "    count += 1\n",
    "    if count == 3:\n",
    "        break\n",
    "\n",
    "# map을 사용해서 한번에 정수형으로 바꿔본다.\n",
    "# 셀 서식에서 1000단위 구분기호를 없애지 않으면 int로 변환 할 때 오류 발생,,,,,,,,, 의미가 없네 -_-"
   ]
  },
  {
   "cell_type": "markdown",
   "metadata": {},
   "source": [
    "#### (6) 출근 시간대에 사람들이 가장 많이 타고 내리는 역은 어디일까\n",
    "먼저 아침 7시 승차 데이터의 위치를 확인해보자. 10번 인덱스에 저장되어 있다. 해당 인덱스의 데이터만을 가져온다."
   ]
  },
  {
   "cell_type": "code",
   "execution_count": 37,
   "metadata": {},
   "outputs": [
    {
     "name": "stdout",
     "output_type": "stream",
     "text": [
      "598\n",
      "[39110, 7703, 6733, 6066, 5143, 14893, 20077, 22615, 46015, 6088, 5822, 8459, 5822, 3225, 7973, 27835, 38199, 31012, 6313, 23263, 25458, 59821, 70814, 99368, 45639, 130638, 59461, 18787, 17974, 23502, 16391, 48487, 27365, 14946, 26301, 78413, 89675, 146181, 84974, 243083, 99608, 154641, 77272, 153133, 46364, 45277, 56578, 48068, 75744, 40444, 18646, 26197, 18343, 7965, 6917, 3353, 3160, 32301, 43628, 4860, 3988, 91650, 148741, 58325, 55607, 62354, 14773, 16297, 15231, 6464, 1992, 2337, 0, 5340, 25921, 27033, 24997, 17015, 13731, 16790, 28669, 8261, 27157, 36344, 15093, 8325, 25900, 3695, 25425, 21481, 38038, 22032, 23508, 26639, 49477, 101709, 59128, 108209, 141391, 127573, 54631, 92454, 88501, 52815, 33607, 17800, 5662, 7510, 10424, 5612, 6458, 12348, 18564, 5669, 11193, 13780, 4651, 49720, 78726, 3340, 6380, 12719, 21239, 19333, 31594, 42323, 9949, 24815, 39212, 15241, 47110, 44522, 37137, 89122, 28664, 89750, 19514, 28555, 71907, 42380, 77372, 43514, 16219, 48837, 9716, 9749, 21289, 3085, 11855, 9157, 5282, 24051, 5263, 1584, 12138, 8757, 28239, 11118, 13191, 102383, 51233, 139670, 127056, 133782, 104104, 33578, 67792, 73755, 39575, 48303, 5734, 28465, 40308, 43925, 27432, 7721, 22025, 45976, 15548, 8773, 2872, 5009, 34, 6761, 26713, 26535, 23224, 38643, 28922, 37100, 18199, 22515, 0, 33032, 20720, 27233, 28023, 60318, 45613, 26295, 19146, 37268, 8535, 22065, 21735, 10092, 4825, 5691, 5942, 64390, 15216, 16974, 86991, 30974, 51600, 30417, 11801, 26504, 7218, 18571, 35129, 20607, 21542, 1801, 673, 18617, 17858, 90202, 61519, 96163, 3688, 19126, 7004, 2419, 6744, 8430, 24977, 1, 28855, 14358, 5296, 7136, 4318, 18701, 45127, 62115, 57586, 35997, 17844, 29899, 26836, 33968, 14915, 10012, 43681, 20719, 19247, 37243, 19538, 18026, 18213, 47885, 17277, 22889, 7745, 39208, 0, 61144, 48268, 59077, 6137, 24609, 17547, 8953, 27554, 68616, 60949, 23633, 20676, 29526, 5547, 61624, 44038, 2480, 25941, 13618, 1264, 1384, 5843, 562, 2101, 1997, 801, 9690, 860, 3631, 187, 2195, 7123, 5753, 2837, 7925, 1972, 1687, 278, 4437, 4816, 2251, 1408, 18493, 5675, 2661, 3726, 18196, 43358, 16154, 1378, 35684, 24249, 52718, 42395, 21572, 27350, 16902, 20344, 2227, 2872, 18826, 0, 0, 0, 0, 0, 2051, 16695, 7884, 19369, 17273, 5176, 26488, 7130, 14939, 955, 3424, 532, 1996, 184, 73, 349, 431, 3911, 1997, 101, 8596, 12323, 14272, 6082, 1176, 14385, 14276, 9536, 19705, 11038, 3319, 2012, 3731, 3974, 10584, 29898, 10588, 5894, 3898, 6568, 4360, 833, 5265, 33410, 24572, 7401, 31836, 26095, 29477, 62971, 128061, 139522, 69298, 67001, 53755, 22228, 7654, 19069, 10431, 10399, 5459, 26163, 20404, 19821, 5579, 17043, 10566, 3606, 1411, 867, 6723, 22626, 33836, 6478, 16863, 56080, 49375, 32646, 43392, 43138, 28727, 67499, 24028, 37876, 33549, 35491, 75094, 25725, 10832, 20144, 10094, 26384, 32721, 22065, 72019, 17318, 12121, 13324, 1, 30752, 53100, 40142, 38344, 8515, 39459, 26662, 16590, 10188, 17413, 14834, 22427, 15392, 6875, 4892, 14369, 3236, 5585, 4568, 7413, 7727, 8849, 14905, 20553, 8862, 21609, 41534, 22912, 27561, 53407, 19499, 67381, 55748, 18286, 57793, 56751, 64546, 41621, 68168, 76395, 40606, 21401, 40404, 41591, 54399, 59324, 50925, 26108, 31636, 35718, 17282, 13275, 20581, 11981, 6990, 8657, 9914, 8329, 10577, 17631, 27280, 38829, 38570, 32099, 33041, 53375, 19842, 36148, 15804, 33675, 20278, 93286, 100278, 38233, 51028, 30096, 20759, 25287, 50700, 44400, 44977, 26143, 39162, 69923, 81944, 50030, 32446, 10599, 8611, 17587, 13303, 9910, 23995, 50900, 37594, 20480, 52891, 39400, 12815, 14597, 8904, 43458, 13832, 9051, 30341, 26742, 27634, 78872, 20434, 37541, 75256, 19186, 18591, 52644, 4252, 8655, 4056, 60869, 16764, 16984, 4976, 4600, 5107, 14830, 8584, 35371, 13461, 5827, 11519, 16128, 5458, 8804, 66113, 45980, 31076, 17140, 2165, 17466, 6331, 8188, 5728, 8758, 5401, 9939, 10595, 12092, 10227, 15152, 7309, 4438, 11517, 2068, 20599, 8566, 8940, 7188, 15720, 11517, 5945, 6395, 27463, 20034, 12345, 3373, 1868, 1098]\n"
     ]
    }
   ],
   "source": [
    "import csv\n",
    "import matplotlib.pyplot as plt\n",
    "\n",
    "f = open('subwaytime.csv')\n",
    "data = csv.reader(f)\n",
    "count = 0\n",
    "result = []\n",
    "next(data)\n",
    "next(data)\n",
    "\n",
    "for row in data:\n",
    "    row[4:] = map(int, row[4:])\n",
    "    result.append(row[10])\n",
    "\n",
    "print(len(result))\n",
    "print(result)"
   ]
  },
  {
   "cell_type": "code",
   "execution_count": 38,
   "metadata": {},
   "outputs": [
    {
     "data": {
      "image/png": "[encoded data removed]",
      "text/plain": [
       "<Figure size 432x288 with 1 Axes>"
      ]
     },
     "metadata": {
      "needs_background": "light"
     },
     "output_type": "display_data"
    }
   ],
   "source": [
    "plt.bar(range(len(result)), result)\n",
    "plt.show()"
   ]
  },
  {
   "cell_type": "code",
   "execution_count": 39,
   "metadata": {},
   "outputs": [
    {
     "data": {
      "image/png": "[encoded data removed]",
      "text/plain": [
       "<Figure size 432x288 with 1 Axes>"
      ]
     },
     "metadata": {
      "needs_background": "light"
     },
     "output_type": "display_data"
    }
   ],
   "source": [
    "result.sort()\n",
    "plt.bar(range(len(result)), result)\n",
    "plt.show()"
   ]
  },
  {
   "cell_type": "markdown",
   "metadata": {},
   "source": [
    "위의 데이터를 그래프로 그려보면 균일하지 않은 결과가 나온다. 또한 한 역이 다른 역과는 매우 큰 차이를 두고 있다는 것을 알 수 있다. 만약 여기서 출근 시간대라고 할 수 있는 7~9시까지의 승차 인원을 합쳐서 표시하면 어떻게 될까? 10번, 12번, 14번 인덱스의 값을 합쳐서 막대그래프로 표현한다."
   ]
  },
  {
   "cell_type": "code",
   "execution_count": 41,
   "metadata": {},
   "outputs": [
    {
     "data": {
      "image/png": "[encoded data removed]",
      "text/plain": [
       "<Figure size 432x288 with 1 Axes>"
      ]
     },
     "metadata": {
      "needs_background": "light"
     },
     "output_type": "display_data"
    }
   ],
   "source": [
    "import csv\n",
    "import matplotlib.pyplot as plt\n",
    "\n",
    "f = open('subwaytime.csv')\n",
    "data = csv.reader(f)\n",
    "count = 0\n",
    "result = []\n",
    "next(data)\n",
    "next(data)\n",
    "\n",
    "for row in data:\n",
    "    row[4:] = map(int, row[4:])\n",
    "    result.append(sum(row[10:15:2]))\n",
    "\n",
    "result.sort()\n",
    "plt.bar(range(len(result)), result)\n",
    "plt.show()"
   ]
  },
  {
   "cell_type": "markdown",
   "metadata": {},
   "source": [
    "거의 비슷한 결과가 나온다. 그렇다면 가장 많이 들어오는 역은 어디일까?"
   ]
  },
  {
   "cell_type": "code",
   "execution_count": 43,
   "metadata": {},
   "outputs": [
    {
     "name": "stdout",
     "output_type": "stream",
     "text": [
      "신림(2호선) 809541\n"
     ]
    }
   ],
   "source": [
    "import csv\n",
    "import matplotlib.pyplot as plt\n",
    "\n",
    "f = open('subwaytime.csv')\n",
    "data = csv.reader(f)\n",
    "count = 0\n",
    "result = []\n",
    "next(data)\n",
    "next(data)\n",
    "mx = 0\n",
    "mx_station = ''\n",
    "\n",
    "for row in data:\n",
    "    row[4:] = map(int, row[4:])\n",
    "    if sum(row[10:15:2]) > mx:\n",
    "        mx = sum(row[10:15:2])\n",
    "        mx_station = row[3] + '(' + row[1] + ')'\n",
    "    # result.append(sum(row[10:15:2]))\n",
    "\n",
    "print(mx_station, mx)"
   ]
  },
  {
   "cell_type": "markdown",
   "metadata": {},
   "source": [
    "그렇다면 가장 많이 하차하는 역은 어디일까? 코드를 일부분만 수정하면 된다."
   ]
  },
  {
   "cell_type": "code",
   "execution_count": 47,
   "metadata": {},
   "outputs": [
    {
     "name": "stdout",
     "output_type": "stream",
     "text": [
      "강남(2호선) 984427\n"
     ]
    }
   ],
   "source": [
    "import csv\n",
    "import matplotlib.pyplot as plt\n",
    "\n",
    "f = open('subwaytime.csv')\n",
    "data = csv.reader(f)\n",
    "count = 0\n",
    "result = []\n",
    "next(data)\n",
    "next(data)\n",
    "mx = 0\n",
    "a = 0\n",
    "mx_station = ''\n",
    "\n",
    "\n",
    "for row in data:\n",
    "    row[4:] = map(int, row[4:])\n",
    "    a = sum(row[11:16:2]) ## 문법 \n",
    "    if a > mx:\n",
    "        mx = a\n",
    "        mx_station = row[3] + '(' + row[1] + ')'\n",
    "\n",
    "print(mx_station, mx)"
   ]
  },
  {
   "cell_type": "markdown",
   "metadata": {},
   "source": [
    "#### (!) 파이썬 문법 짚고 넘어가기: 리스트 슬라이스\n",
    "> a[2:8:3]    # 인덱스 2부터 3씩 증가시키면서 인덱스 7까지 가져온다."
   ]
  },
  {
   "cell_type": "markdown",
   "metadata": {},
   "source": [
    "#### (7) 밤 11시에 사람들이 가장 많이 타는 역은 어디일까\n",
    "- 밤 11시에 사람들이 가장 많이 타는 역은? 인덱스를 찾아보자. 해당 데이터에는 시간마다 승차, 하차가 있으며 승차의 시작시간 4시부터 시작한다는 걸 알 수 있다. \n",
    "- 승차 시각(t)과 승차 인원이 적힌 인덱스(i) 값의 관계를 분석하면 i = 4 + (t-4)*2 라는 패턴을 찾을 수 있다."
   ]
  },
  {
   "cell_type": "code",
   "execution_count": 48,
   "metadata": {},
   "outputs": [
    {
     "name": "stdout",
     "output_type": "stream",
     "text": [
      "몇 시의 승차 인원이 가장 많은 역이 궁금하세요?: 23\n",
      "강남(2호선) 145504\n"
     ]
    }
   ],
   "source": [
    "import csv\n",
    "import matplotlib.pyplot as plt\n",
    "\n",
    "f = open('subwaytime.csv')\n",
    "data = csv.reader(f)\n",
    "count = 0\n",
    "result = []\n",
    "next(data)\n",
    "next(data)\n",
    "mx = 0\n",
    "mx_station = ''\n",
    "t = int(input('몇 시의 승차 인원이 가장 많은 역이 궁금하세요?: '))\n",
    "\n",
    "for row in data:\n",
    "    row[4:] = map(int, row[4:])\n",
    "    a = row[4+(t-4)*2]\n",
    "    if a > mx:\n",
    "        mx = a\n",
    "        mx_station = row[3] + '(' + row[1] + ')'\n",
    "\n",
    "print(mx_station, mx)"
   ]
  },
  {
   "cell_type": "markdown",
   "metadata": {},
   "source": [
    "#### (8) 시간대별로 사람들이 가장 많이 타고 내리는 역은?\n",
    "- 첫번째로 사람들이 가장 많이 승차하는 역을 구한다. \n",
    "- 최대 값과 역을 저장하는 변수를 24개(24시) 저장하는 리스트로 만들고 수식을 계산한다. 시간을 따지면 j는 0~23까지 증가하고 i는 4부터 시작한다. i = j*2 + 4 라는 수식이 나온다. 이 수식에 따라서 저장하면 해당 시간마다 가장 사람이 많이 타고 내리는 역 명과 사람 수가 나온다."
   ]
  },
  {
   "cell_type": "code",
   "execution_count": 59,
   "metadata": {},
   "outputs": [
    {
     "name": "stdout",
     "output_type": "stream",
     "text": [
      "['구로(4시)', '홍대입구(5시)', '신림(6시)', '신림(7시)', '신림(8시)', '신림(9시)', '신림(10시)', '신림(11시)', '강남(12시)', '강남(13시)', '강남(14시)', '강남(15시)', '강남(16시)', '강남(17시)', '강남(18시)', '강남(19시)', '강남(20시)', '강남(21시)', '강남(22시)', '강남(23시)', '강남(24시)', '강남(25시)', '성신여대입구(돈암)(26시)', '신방화(27시)']\n",
      "[8418, 42966, 80407, 243083, 355172, 211286, 113830, 98765, 126159, 170216, 169097, 203483, 227268, 291623, 431115, 292521, 235489, 295326, 314609, 145504, 27203, 36, 3, 1]\n"
     ]
    }
   ],
   "source": [
    "import csv\n",
    "import matplotlib.pyplot as plt\n",
    "\n",
    "f = open('subwaytime.csv')\n",
    "data = csv.reader(f)\n",
    "next(data)\n",
    "next(data)\n",
    "mx_station = ['']*24\n",
    "mx = [0]*24\n",
    "\n",
    "for row in data:\n",
    "    row[4:] = map(int, row[4:])\n",
    "    for j in range(24):\n",
    "        a = row[j*2+4]\n",
    "        if a> mx[j]:\n",
    "            mx[j] = a\n",
    "            mx_station[j] = row[3]+'('+str(j+4)+'시)'\n",
    "            \n",
    "print(mx_station)\n",
    "print(mx)"
   ]
  },
  {
   "cell_type": "code",
   "execution_count": 60,
   "metadata": {},
   "outputs": [
    {
     "data": {
      "image/png": "[encoded data removed]",
      "text/plain": [
       "<Figure size 432x288 with 1 Axes>"
      ]
     },
     "metadata": {
      "needs_background": "light"
     },
     "output_type": "display_data"
    }
   ],
   "source": [
    "plt.rc('font', family='Malgun Gothic')\n",
    "plt.rcParams['axes.unicode_minus'] = False\n",
    "plt.bar(range(24), mx)\n",
    "plt.xticks(range(24), mx_station, rotation=90)\n",
    "plt.show()"
   ]
  },
  {
   "cell_type": "markdown",
   "metadata": {},
   "source": [
    "다음으로 하차 인원이 가장 많은 역을 찾는다. 하차의 인덱스는 5부터 시작하므로 수식을 조금 수정한다."
   ]
  },
  {
   "cell_type": "code",
   "execution_count": 62,
   "metadata": {},
   "outputs": [
    {
     "data": {
      "image/png": "[encoded data removed]",
      "text/plain": [
       "<Figure size 432x288 with 1 Axes>"
      ]
     },
     "metadata": {
      "needs_background": "light"
     },
     "output_type": "display_data"
    }
   ],
   "source": [
    "import csv\n",
    "import matplotlib.pyplot as plt\n",
    "\n",
    "f = open('subwaytime.csv')\n",
    "data = csv.reader(f)\n",
    "next(data)\n",
    "next(data)\n",
    "mx_station = ['']*24\n",
    "mx = [0]*24\n",
    "\n",
    "for row in data:\n",
    "    row[4:] = map(int, row[4:])\n",
    "    for j in range(24):\n",
    "        b = row[5+ j*2] ## 하차는 인덱스가 5부터 시작한다. \n",
    "        if b > mx[j]:\n",
    "            mx[j] = b\n",
    "            mx_station[j] = row[3]+'('+str(j+4)+'시)'\n",
    "            \n",
    "plt.rc('font', family='Malgun Gothic')\n",
    "plt.rcParams['axes.unicode_minus'] = False\n",
    "plt.bar(range(24), mx, color='pink')\n",
    "plt.xticks(range(24), mx_station, rotation=90)\n",
    "plt.show()"
   ]
  },
  {
   "cell_type": "markdown",
   "metadata": {},
   "source": [
    "지금까지는 사람들이 '가장 많이' 타고 내리는 역이 어디이며, 시간대는 언제인지를 살펴보았다. 만약 모든 지하철역에서 시간대별 승하차 인원을 모두 더하면 어떤 결과를 볼 수 있을까?"
   ]
  },
  {
   "cell_type": "code",
   "execution_count": 67,
   "metadata": {},
   "outputs": [
    {
     "data": {
      "image/png": "[encoded data removed]",
      "text/plain": [
       "<Figure size 432x288 with 1 Axes>"
      ]
     },
     "metadata": {
      "needs_background": "light"
     },
     "output_type": "display_data"
    }
   ],
   "source": [
    "import csv\n",
    "import matplotlib.pyplot as plt\n",
    "\n",
    "f = open('subwaytime.csv')\n",
    "data = csv.reader(f)\n",
    "next(data)\n",
    "next(data)\n",
    "s_in = [0]*24 # 승차 인원을 저장 할 리스트\n",
    "s_out = [0]*24 # 하차 인원을 저장 할 리스트\n",
    "\n",
    "for row in data:\n",
    "    row[4:] = map(int, row[4:])\n",
    "    for j in range(24):\n",
    "        s_in[j] += row[4+ j*2] ## 승차는 인덱스가 4부터 시작한다. (5열부터 시작하기 때문)\n",
    "        s_out[j] += row[5+ j*2] ## 하차는 인덱스가 5부터 시작한다. (6열부터 시작하기 때문)\n",
    "            \n",
    "plt.rc('font', family='Malgun Gothic')\n",
    "plt.rcParams['axes.unicode_minus'] = False\n",
    "plt.title('지하철 시간대별 승하차 인원 추이')\n",
    "plt.plot(s_in, label='승차')\n",
    "plt.plot(s_out, label='하차')\n",
    "plt.legend()\n",
    "plt.xticks(range(24), range(4,28))\n",
    "plt.show()"
   ]
  }
 ],
 "metadata": {
  "kernelspec": {
   "display_name": "Python 3",
   "language": "python",
   "name": "python3"
  },
  "language_info": {
   "codemirror_mode": {
    "name": "ipython",
    "version": 3
   },
   "file_extension": ".py",
   "mimetype": "text/x-python",
   "name": "python",
   "nbconvert_exporter": "python",
   "pygments_lexer": "ipython3",
   "version": "3.7.4"
  }
 },
 "nbformat": 4,
 "nbformat_minor": 2
}
